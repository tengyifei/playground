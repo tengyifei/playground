{
 "cells": [
  {
   "cell_type": "code",
   "execution_count": 2,
   "metadata": {},
   "outputs": [
    {
     "name": "stdout",
     "output_type": "stream",
     "text": [
      "tensor([[ 0.3367,  0.0758, -0.0173],\n",
      "        [ 0.2317,  0.2464,  0.8876],\n",
      "        [ 0.6682, -0.0785,  0.5985],\n",
      "        [ 0.8325,  0.3790,  0.2564],\n",
      "        [-0.2443, -0.2991,  0.6438],\n",
      "        [-0.5664, -0.6282, -0.1522],\n",
      "        [-0.4969,  0.4378,  1.1538],\n",
      "        [ 0.6580, -0.1521,  0.0123],\n",
      "        [ 0.2913, -0.1908,  0.5842],\n",
      "        [ 0.5517,  0.4863,  0.4779]], grad_fn=<XLAPatchedLinearBackward>)\n"
     ]
    }
   ],
   "source": [
    "import torch\n",
    "import torch.nn as nn\n",
    "\n",
    "from torch_xla.distributed.spmd.xla_sharding import XLAPatchedLinear, xla_patched_nn_linear_forward\n",
    "\n",
    "class CustomLinear(nn.Linear):\n",
    "    def forward(self, input):\n",
    "        return xla_patched_nn_linear_forward(self, input)\n",
    "\n",
    "# Usage\n",
    "input_data = torch.randn(10, 5)  # Example input\n",
    "linear_layer = CustomLinear(5, 3)  # Linear layer with input_dim=5, output_dim=3\n",
    "\n",
    "output = linear_layer(input_data)\n",
    "print(output)"
   ]
  },
  {
   "cell_type": "code",
   "execution_count": null,
   "metadata": {},
   "outputs": [],
   "source": []
  }
 ],
 "metadata": {
  "kernelspec": {
   "display_name": "Python 3",
   "language": "python",
   "name": "python3"
  },
  "language_info": {
   "codemirror_mode": {
    "name": "ipython",
    "version": 3
   },
   "file_extension": ".py",
   "mimetype": "text/x-python",
   "name": "python",
   "nbconvert_exporter": "python",
   "pygments_lexer": "ipython3",
   "version": "3.10.14"
  }
 },
 "nbformat": 4,
 "nbformat_minor": 2
}
