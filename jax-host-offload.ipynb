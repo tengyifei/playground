{
 "cells": [
  {
   "cell_type": "code",
   "execution_count": 1,
   "metadata": {},
   "outputs": [
    {
     "name": "stdout",
     "output_type": "stream",
     "text": [
      "module @jit_g attributes {mhlo.num_partitions = 1 : i32, mhlo.num_replicas = 1 : i32} {\n",
      "  func.func public @main(%arg0: tensor<16xf32> {mhlo.layout_mode = \"default\"}) -> (tensor<16xf32> {jax.result_info = \"\", mhlo.layout_mode = \"default\"}) {\n",
      "    %0 = stablehlo.sine %arg0 : tensor<16xf32>\n",
      "    %1 = stablehlo.cosine %arg0 : tensor<16xf32>\n",
      "    %2 = stablehlo.custom_call @annotate_device_placement(%1) {backend_config = \"\", has_side_effect = true, mhlo.frontend_attributes = {_xla_buffer_placement = \"pinned_host\"}} : (tensor<16xf32>) -> tensor<16xf32>\n",
      "    %3 = stablehlo.cosine %0 : tensor<16xf32>\n",
      "    %4 = stablehlo.custom_call @annotate_device_placement(%3) {backend_config = \"\", has_side_effect = true, mhlo.frontend_attributes = {_xla_buffer_placement = \"pinned_host\"}} : (tensor<16xf32>) -> tensor<16xf32>\n",
      "    %cst = stablehlo.constant dense<1.000000e+00> : tensor<f32>\n",
      "    %5 = stablehlo.broadcast_in_dim %cst, dims = [] : (tensor<f32>) -> tensor<16xf32>\n",
      "    %6:3 = stablehlo.optimization_barrier %2, %4, %5 : tensor<16xf32>, tensor<16xf32>, tensor<16xf32>\n",
      "    %7 = stablehlo.custom_call @annotate_device_placement(%6#0) {backend_config = \"\", has_side_effect = true, mhlo.frontend_attributes = {_xla_buffer_placement = \"device\"}} : (tensor<16xf32>) -> tensor<16xf32>\n",
      "    %8 = stablehlo.custom_call @annotate_device_placement(%6#1) {backend_config = \"\", has_side_effect = true, mhlo.frontend_attributes = {_xla_buffer_placement = \"device\"}} : (tensor<16xf32>) -> tensor<16xf32>\n",
      "    %9 = stablehlo.multiply %6#2, %8 : tensor<16xf32>\n",
      "    %10 = stablehlo.multiply %9, %7 : tensor<16xf32>\n",
      "    return %10 : tensor<16xf32>\n",
      "  }\n",
      "}\n",
      "\n"
     ]
    }
   ],
   "source": [
    "import jax\n",
    "import jax.numpy as jnp\n",
    "from jax._src.interpreters.partial_eval import (\n",
    "  Offloadable as Offloadable,\n",
    ")\n",
    "import functools\n",
    "\n",
    "def policy(prim, *avals, **params) -> Offloadable:\n",
    "  return Offloadable(src='device', dst='pinned_host')\n",
    "\n",
    "@functools.partial(jax.remat, policy=policy)  # type: ignore\n",
    "def f(x):\n",
    "  return jnp.sin(jnp.sin(x))\n",
    "\n",
    "def g(x):\n",
    "  b = f(x)\n",
    "  return jnp.sum(b)\n",
    "\n",
    "# Example usage\n",
    "x = jnp.ones((16,))  # Example input array\n",
    "\n",
    "lowered = jax.jit(jax.grad(g)).lower(x)\n",
    "print(lowered.as_text())\n"
   ]
  },
  {
   "cell_type": "code",
   "execution_count": 2,
   "metadata": {},
   "outputs": [
    {
     "data": {
      "text/plain": [
       "[{'bytes accessed0{}': 7680.0,\n",
       "  'bytes accessed2{}': 512.0,\n",
       "  'bytes accessed1{}': 512.0,\n",
       "  'optimal_seconds': 1.7197404389435178e-08,\n",
       "  'utilization0{}': 17.0,\n",
       "  'flops': 32.0,\n",
       "  'utilization2{}': 1.0,\n",
       "  'bytes accessed': 16896.0,\n",
       "  'transcendentals': 48.0,\n",
       "  'bytes accessedout{}': 8192.0,\n",
       "  'utilization1{}': 2.0,\n",
       "  'bytes accessedout{0}': 512.0,\n",
       "  'bytes accessedout{1}': 512.0}]"
      ]
     },
     "execution_count": 2,
     "metadata": {},
     "output_type": "execute_result"
    }
   ],
   "source": [
    "compiled = lowered.compile()\n",
    "compiled.cost_analysis()"
   ]
  },
  {
   "cell_type": "code",
   "execution_count": null,
   "metadata": {},
   "outputs": [],
   "source": []
  }
 ],
 "metadata": {
  "kernelspec": {
   "display_name": "Python 3",
   "language": "python",
   "name": "python3"
  },
  "language_info": {
   "codemirror_mode": {
    "name": "ipython",
    "version": 3
   },
   "file_extension": ".py",
   "mimetype": "text/x-python",
   "name": "python",
   "nbconvert_exporter": "python",
   "pygments_lexer": "ipython3",
   "version": "3.10.14"
  }
 },
 "nbformat": 4,
 "nbformat_minor": 2
}
