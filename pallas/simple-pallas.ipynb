{
 "cells": [
  {
   "cell_type": "code",
   "execution_count": 1,
   "id": "a46835c8",
   "metadata": {},
   "outputs": [],
   "source": [
    "import jax\n",
    "import torchax"
   ]
  },
  {
   "cell_type": "code",
   "execution_count": 2,
   "id": "6ec09226",
   "metadata": {},
   "outputs": [
    {
     "name": "stdout",
     "output_type": "stream",
     "text": [
      "add vector result Tensor(<class 'jaxlib._jax.ArrayImpl'> [-0.53954804  1.0754876  -3.1762674   0.05775923  1.8583001   0.240334\n",
      "  2.044621   -1.612478  ])\n",
      "matmul result:  Tensor(<class 'jaxlib._jax.ArrayImpl'> [[ 0.         0.         0.        ...  0.         0.        55.06069  ]\n",
      " [31.81658    0.        21.830395  ...  0.        39.03266   13.942827 ]\n",
      " [ 0.         0.        36.42938   ...  0.        45.35937   28.471943 ]\n",
      " ...\n",
      " [ 0.        28.596521   7.1729493 ...  0.         0.         0.       ]\n",
      " [42.961147  31.85172    0.        ...  0.        11.14733    0.       ]\n",
      " [30.030876   0.        27.99533   ...  0.         9.47911   60.985184 ]])\n"
     ]
    }
   ],
   "source": [
    "import functools\n",
    "from jax.experimental import pallas as pl\n",
    "import jax.numpy as jnp\n",
    "import numpy as np\n",
    "import torch\n",
    "from torchax import interop\n",
    "\n",
    "\"\"\"\n",
    "\n",
    "Copy of https://github.com/qihqi/learning_machine/tree/main/torch_pallas\n",
    "\n",
    "\"\"\"\n",
    "\n",
    "torchax.enable_globally()\n",
    "\n",
    "\n",
    "def torch_pallas_call(kernel, *args, **kwargs):\n",
    "  kernel_as_jax = interop.jax_view(kernel)\n",
    "  orig_pallas_callable = pl.pallas_call(\n",
    "      kernel_as_jax,\n",
    "      *args,\n",
    "      **kwargs,\n",
    "  )\n",
    "  return interop.torch_view(orig_pallas_callable)\n",
    "\n",
    "\n",
    "# https://docs.jax.dev/en/latest/pallas/quickstart.html\n",
    "# easiest hello world\n",
    "def add_vectors_kernel(x_ref, y_ref, o_ref):\n",
    "  x, y = x_ref[...], y_ref[...]\n",
    "  o_ref[...] = torch.add(x, y)\n",
    "\n",
    "\n",
    "  \n",
    "def add_vectors(x: torch.Tensor, y: torch.Tensor) -> torch.Tensor:\n",
    "  return torch_pallas_call(\n",
    "      add_vectors_kernel,\n",
    "      out_shape=jax.ShapeDtypeStruct(x.shape, interop.jax_view(x.dtype)),\n",
    "      interpret=True\n",
    "  )(x, y)\n",
    "\n",
    "print('add vector result', add_vectors(torch.randn(8, device='jax'), torch.randn(8, device='jax')))\n",
    "\n",
    "\n",
    "# =====  matmul example ===\n",
    "def matmul_kernel(x_ref, y_ref, z_ref, *, activation):\n",
    "  z_ref[...] = activation(torch.matmul(x_ref[...], y_ref[...]))\n",
    "\n",
    "def matmul(x: torch.Tensor, y: torch.Tensor, *, activation):\n",
    "  return torch_pallas_call(\n",
    "    functools.partial(matmul_kernel, activation=activation),\n",
    "    out_shape=jax.ShapeDtypeStruct((x.shape[0], y.shape[1]), interop.jax_view(x.dtype)),\n",
    "    grid=(2, 2),\n",
    "    in_specs=[\n",
    "        pl.BlockSpec((x.shape[0] // 2, x.shape[1]), lambda i, j: (i, 0)),\n",
    "        pl.BlockSpec((y.shape[0], y.shape[1] // 2), lambda i, j: (0, j))\n",
    "    ],\n",
    "    out_specs=pl.BlockSpec(\n",
    "        (x.shape[0] // 2, y.shape[1] // 2), lambda i, j: (i, j)\n",
    "    ),\n",
    "    interpret=True,\n",
    "  )(x, y)\n",
    "\n",
    "a = torch.randn((1024, 1024), device='jax')\n",
    "b = torch.randn((1024, 1024), device='jax')\n",
    "\n",
    "\n",
    "z = matmul(a, b, activation=torch.nn.functional.relu)\n",
    "print('matmul result: ', z)\n"
   ]
  },
  {
   "cell_type": "code",
   "execution_count": 10,
   "id": "adfcaf00",
   "metadata": {},
   "outputs": [],
   "source": [
    "def simple_kernel(x_ref, y_ref, o_ref):\n",
    "  print(f'x_ref = {x_ref} ({type(x_ref)})')\n",
    "  print(f'y_ref = {y_ref} ({type(y_ref)})')\n",
    "  print(f'o_ref = {o_ref} ({type(o_ref)})')\n",
    "  x, y = x_ref[...], y_ref[...]\n",
    "  x, y = x_ref[...], y_ref[...]\n",
    "  print(f'x = {x} ({type(x)})')\n",
    "  print(f'y = {y} ({type(y)})')\n",
    "  o_ref[...] = x + y\n"
   ]
  },
  {
   "cell_type": "code",
   "execution_count": 11,
   "id": "0acb29cb",
   "metadata": {},
   "outputs": [
    {
     "name": "stdout",
     "output_type": "stream",
     "text": [
      "x_ref = Traced<MemRef<None>{float32[2,2]}>with<DynamicJaxprTrace> (<class 'jax._src.interpreters.partial_eval.DynamicJaxprTracer'>)\n",
      "y_ref = Traced<MemRef<None>{float32[2,2]}>with<DynamicJaxprTrace> (<class 'jax._src.interpreters.partial_eval.DynamicJaxprTracer'>)\n",
      "o_ref = Traced<MemRef<None>{float32[2,2]}>with<DynamicJaxprTrace> (<class 'jax._src.interpreters.partial_eval.DynamicJaxprTracer'>)\n",
      "x = Traced<ShapedArray(float32[2,2])>with<DynamicJaxprTrace> (<class 'jax._src.interpreters.partial_eval.DynamicJaxprTracer'>)\n",
      "y = Traced<ShapedArray(float32[2,2])>with<DynamicJaxprTrace> (<class 'jax._src.interpreters.partial_eval.DynamicJaxprTracer'>)\n"
     ]
    },
    {
     "data": {
      "text/plain": [
       "{ lambda ; a:f32[2,2] b:f32[2,2]. let\n",
       "    c:f32[2,2] = pallas_call[\n",
       "      backend=None\n",
       "      compiler_params={}\n",
       "      cost_estimate=None\n",
       "      debug=True\n",
       "      grid_mapping=GridMapping(grid=(), grid_names=None, block_mappings=(BlockMapping(block_shape=(Blocked(block_size=2), Blocked(block_size=2)), transformed_block_aval=MemRef<None>{float32[2,2]}, index_map_jaxpr={ lambda ; . let  in (0, 0) }, array_shape_dtype=ShapeDtypeStruct(shape=(2, 2), dtype=float32), origin='args[0]', transforms=(), pipeline_mode=None), BlockMapping(block_shape=(Blocked(block_size=2), Blocked(block_size=2)), transformed_block_aval=MemRef<None>{float32[2,2]}, index_map_jaxpr={ lambda ; . let  in (0, 0) }, array_shape_dtype=ShapeDtypeStruct(shape=(2, 2), dtype=float32), origin='args[1]', transforms=(), pipeline_mode=None), BlockMapping(block_shape=(Blocked(block_size=2), Blocked(block_size=2)), transformed_block_aval=MemRef<None>{float32[2,2]}, index_map_jaxpr={ lambda ; . let  in (0, 0) }, array_shape_dtype=ShapeDtypeStruct(shape=(2, 2), dtype=float32), origin='outputs', transforms=(), pipeline_mode=None)), index_map_tree=PyTreeDef(((), {})), index_map_avals=(), vmapped_dims=(), num_index_operands=0, num_inputs=2, num_outputs=1, num_scratch_operands=0, get_grid_indices=None, local_grid_env=None)\n",
       "      input_output_aliases=()\n",
       "      interpret=False\n",
       "      jaxpr={ lambda ; d:MemRef<None>{float32[2,2]} e:MemRef<None>{float32[2,2]}\n",
       "          f:MemRef<None>{float32[2,2]}. let\n",
       "          _:f32[2,2] <- d[:,:]\n",
       "          _:f32[2,2] <- e[:,:]\n",
       "          g:f32[2,2] <- d[:,:]\n",
       "          h:f32[2,2] <- e[:,:]\n",
       "          i:f32[2,2] = add g h\n",
       "          f[:,:] <- i\n",
       "        in () }\n",
       "      mesh=None\n",
       "      out_avals=(ShapedArray(float32[2,2]),)\n",
       "    ] a b\n",
       "  in (c,) }"
      ]
     },
     "execution_count": 11,
     "metadata": {},
     "output_type": "execute_result"
    }
   ],
   "source": [
    "lifted = pl.pallas_call(\n",
    "  simple_kernel,\n",
    "  out_shape=jax.ShapeDtypeStruct((2, 2), jnp.float32),\n",
    "  debug=True,\n",
    ")\n",
    "jaxpr = jax.make_jaxpr(lifted)(jnp.ones((2, 2)), jnp.ones((2, 2)))\n",
    "jaxpr"
   ]
  },
  {
   "cell_type": "code",
   "execution_count": 5,
   "id": "722dfc13",
   "metadata": {},
   "outputs": [
    {
     "data": {
      "text/plain": [
       "[_:f32[2,2] <- a[:,:],\n",
       " _:f32[2,2] <- a[:,:],\n",
       " a:f32[2,2] <- b[:,:],\n",
       " a:f32[2,2] <- b[:,:],\n",
       " a:f32[2,2] = add b c,\n",
       " a[:,:] <- b]"
      ]
     },
     "execution_count": 5,
     "metadata": {},
     "output_type": "execute_result"
    }
   ],
   "source": [
    "inner_jaxpr = jaxpr.eqns[0].params['jaxpr']\n",
    "inner_jaxpr.eqns"
   ]
  },
  {
   "cell_type": "code",
   "execution_count": 6,
   "id": "8688dc6a",
   "metadata": {},
   "outputs": [
    {
     "name": "stdout",
     "output_type": "stream",
     "text": [
      "_:f32[2,2] <- a[:,:] # get <class 'jax._src.core.Primitive'>\n",
      "_:f32[2,2] <- a[:,:] # get <class 'jax._src.core.Primitive'>\n",
      "a:f32[2,2] <- b[:,:] # get <class 'jax._src.core.Primitive'>\n",
      "a:f32[2,2] <- b[:,:] # get <class 'jax._src.core.Primitive'>\n",
      "a:f32[2,2] = add b c # add <class 'jax._src.core.Primitive'>\n",
      "a[:,:] <- b # swap <class 'jax._src.core.Primitive'>\n"
     ]
    }
   ],
   "source": [
    "for eqn in inner_jaxpr.eqns:\n",
    "  print(eqn, '#', eqn.primitive, type(eqn.primitive))"
   ]
  },
  {
   "cell_type": "code",
   "execution_count": 7,
   "id": "6051bbde",
   "metadata": {},
   "outputs": [
    {
     "data": {
      "text/plain": [
       "{ lambda a:f32[2,2]; b:f32[2,2] c:f32[2,2]. let\n",
       "    _:f32[2,2] = pallas_call[\n",
       "      backend=None\n",
       "      compiler_params={}\n",
       "      cost_estimate=None\n",
       "      debug=True\n",
       "      grid_mapping=GridMapping(grid=(), grid_names=None, block_mappings=(BlockMapping(block_shape=(Blocked(block_size=2), Blocked(block_size=2)), transformed_block_aval=MemRef<None>{float32[2,2]}, index_map_jaxpr={ lambda ; . let  in (0, 0) }, array_shape_dtype=ShapeDtypeStruct(shape=(2, 2), dtype=float32), origin='args[0]', transforms=(), pipeline_mode=None), BlockMapping(block_shape=(Blocked(block_size=2), Blocked(block_size=2)), transformed_block_aval=MemRef<None>{float32[2,2]}, index_map_jaxpr={ lambda ; . let  in (0, 0) }, array_shape_dtype=ShapeDtypeStruct(shape=(2, 2), dtype=float32), origin='args[1]', transforms=(), pipeline_mode=None), BlockMapping(block_shape=(Blocked(block_size=2), Blocked(block_size=2)), transformed_block_aval=MemRef<None>{float32[2,2]}, index_map_jaxpr={ lambda ; . let  in (0, 0) }, array_shape_dtype=ShapeDtypeStruct(shape=(2, 2), dtype=float32), origin='outputs', transforms=(), pipeline_mode=None)), index_map_tree=PyTreeDef(((), {})), index_map_avals=(), vmapped_dims=(), num_index_operands=0, num_inputs=2, num_outputs=1, num_scratch_operands=0, get_grid_indices=None, local_grid_env=None)\n",
       "      input_output_aliases=()\n",
       "      interpret=False\n",
       "      jaxpr={ lambda ; d:MemRef<None>{float32[2,2]} e:MemRef<None>{float32[2,2]}\n",
       "          f:MemRef<None>{float32[2,2]}. let\n",
       "          _:f32[2,2] <- d[:,:]\n",
       "          _:f32[2,2] <- e[:,:]\n",
       "          g:f32[2,2] <- d[:,:]\n",
       "          h:f32[2,2] <- e[:,:]\n",
       "          i:f32[2,2] = mul h 1.0\n",
       "          j:f32[2,2] = add g i\n",
       "          f[:,:] <- j\n",
       "        in () }\n",
       "      mesh=None\n",
       "      out_avals=(ShapedArray(float32[2,2]),)\n",
       "    ] b c\n",
       "  in (a,) }"
      ]
     },
     "execution_count": 7,
     "metadata": {},
     "output_type": "execute_result"
    }
   ],
   "source": [
    "jax.make_jaxpr(torch_pallas_call(\n",
    "  add_vectors_kernel,\n",
    "  out_shape=jax.ShapeDtypeStruct((2, 2), jnp.float32),\n",
    "  debug=True,\n",
    "))(jnp.ones((2, 2)), jnp.ones((2, 2)))"
   ]
  },
  {
   "cell_type": "code",
   "execution_count": null,
   "id": "e0a9f168",
   "metadata": {},
   "outputs": [],
   "source": []
  }
 ],
 "metadata": {
  "kernelspec": {
   "display_name": "Python 3",
   "language": "python",
   "name": "python3"
  },
  "language_info": {
   "codemirror_mode": {
    "name": "ipython",
    "version": 3
   },
   "file_extension": ".py",
   "mimetype": "text/x-python",
   "name": "python",
   "nbconvert_exporter": "python",
   "pygments_lexer": "ipython3",
   "version": "3.10.17"
  }
 },
 "nbformat": 4,
 "nbformat_minor": 5
}
