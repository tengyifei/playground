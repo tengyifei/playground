{
 "cells": [
  {
   "cell_type": "code",
   "execution_count": 1,
   "metadata": {},
   "outputs": [
    {
     "name": "stdout",
     "output_type": "stream",
     "text": [
      "[ 1.  3.  6. 10.]\n"
     ]
    }
   ],
   "source": [
    "import jax.numpy as jnp\n",
    "from jax import lax\n",
    "\n",
    "\n",
    "def cumsum(arr):\n",
    "\n",
    "  def scan_fn(carry, x):\n",
    "    return carry + x, carry + x\n",
    "\n",
    "  _, result = lax.scan(scan_fn, 0, arr)\n",
    "  return result\n",
    "\n",
    "\n",
    "arr = jnp.array([1.0, 2.0, 3.0, 4.0])\n",
    "cumulative_sum = cumsum(arr)  # Output: [1, 3, 6, 10]\n",
    "print(cumulative_sum)\n"
   ]
  },
  {
   "cell_type": "code",
   "execution_count": 2,
   "metadata": {},
   "outputs": [
    {
     "data": {
      "text/plain": [
       "Array([4., 3., 2., 1.], dtype=float32)"
      ]
     },
     "execution_count": 2,
     "metadata": {},
     "output_type": "execute_result"
    }
   ],
   "source": [
    "from jax import grad\n",
    "import jax.numpy as jnp\n",
    "\n",
    "def loss(arr):\n",
    "    return jnp.sum(cumsum(arr))\n",
    "\n",
    "grad(loss)(arr)"
   ]
  },
  {
   "cell_type": "code",
   "execution_count": 3,
   "metadata": {},
   "outputs": [
    {
     "data": {
      "text/plain": [
       "{ lambda ; a:f32[4]. let\n",
       "    _:f32[] b:f32[4] = scan[\n",
       "      _split_transpose=False\n",
       "      jaxpr={ lambda ; c:f32[] d:f32[]. let\n",
       "          e:f32[] = add c d\n",
       "          f:f32[] = add c d\n",
       "        in (e, f) }\n",
       "      length=4\n",
       "      linear=(False, False)\n",
       "      num_carry=1\n",
       "      num_consts=0\n",
       "      reverse=False\n",
       "      unroll=1\n",
       "    ] 0.0 a\n",
       "    _:f32[] = reduce_sum[axes=(0,)] b\n",
       "    g:f32[4] = broadcast_in_dim[broadcast_dimensions=() shape=(4,)] 1.0\n",
       "    _:f32[] h:f32[4] = scan[\n",
       "      _split_transpose=False\n",
       "      jaxpr={ lambda ; i:f32[] j:f32[]. let\n",
       "          k:f32[] = add_any j i\n",
       "          l:f32[] = add_any j i\n",
       "        in (k, l) }\n",
       "      length=4\n",
       "      linear=(True, True)\n",
       "      num_carry=1\n",
       "      num_consts=0\n",
       "      reverse=True\n",
       "      unroll=1\n",
       "    ] 0.0 g\n",
       "  in (h,) }"
      ]
     },
     "execution_count": 3,
     "metadata": {},
     "output_type": "execute_result"
    }
   ],
   "source": [
    "from jax import make_jaxpr\n",
    "\n",
    "make_jaxpr(grad(loss))(arr)"
   ]
  },
  {
   "cell_type": "code",
   "execution_count": 4,
   "metadata": {},
   "outputs": [
    {
     "data": {
      "text/plain": [
       "{ lambda ; a:i32[2,2]. let\n",
       "    b:i32[1,2] = slice[limit_indices=(1, 2) start_indices=(0, 0) strides=None] a\n",
       "    c:i32[2] = squeeze[dimensions=(0,)] b\n",
       "  in (c,) }"
      ]
     },
     "execution_count": 4,
     "metadata": {},
     "output_type": "execute_result"
    }
   ],
   "source": [
    "def pick_0(arr):\n",
    "    return arr[0]\n",
    "\n",
    "make_jaxpr(pick_0)(jnp.array([\n",
    "    [1, 2,],\n",
    "    [3, 4,],\n",
    "]))"
   ]
  },
  {
   "cell_type": "code",
   "execution_count": 5,
   "metadata": {},
   "outputs": [
    {
     "name": "stdout",
     "output_type": "stream",
     "text": [
      "[[0. 0. 0.]\n",
      " [1. 1. 1.]\n",
      " [2. 2. 2.]\n",
      " [3. 3. 3.]]\n",
      "[[0. 0. 0.]\n",
      " [1. 1. 1.]\n",
      " [3. 3. 3.]\n",
      " [6. 6. 6.]]\n"
     ]
    }
   ],
   "source": [
    "\n",
    "def cumsum(arr):\n",
    "\n",
    "  def scan_fn(carry, x):\n",
    "    return carry + x, carry + x\n",
    "\n",
    "  _, result = lax.scan(scan_fn, jnp.array([0.0] * 3), arr)\n",
    "  return result\n",
    "\n",
    "\n",
    "arr = jnp.stack(\n",
    "    [jnp.array([1.0, 1.0, 1.0]) * i for i in range(4)])\n",
    "# Eval `arr`\n",
    "print(arr)\n",
    "\n",
    "cumulative_sum = cumsum(arr)\n",
    "\n",
    "print(cumulative_sum)\n"
   ]
  }
 ],
 "metadata": {
  "kernelspec": {
   "display_name": "Python 3",
   "language": "python",
   "name": "python3"
  },
  "language_info": {
   "codemirror_mode": {
    "name": "ipython",
    "version": 3
   },
   "file_extension": ".py",
   "mimetype": "text/x-python",
   "name": "python",
   "nbconvert_exporter": "python",
   "pygments_lexer": "ipython3",
   "version": "3.10.14"
  }
 },
 "nbformat": 4,
 "nbformat_minor": 2
}
