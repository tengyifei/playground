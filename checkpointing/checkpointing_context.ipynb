{
 "cells": [
  {
   "cell_type": "code",
   "execution_count": 1,
   "metadata": {},
   "outputs": [
    {
     "name": "stdout",
     "output_type": "stream",
     "text": [
      "torch_function <method 'add' of 'torch._C.TensorBase' objects> () (tensor([1.], requires_grad=True), 123)\n",
      "input to region:  tensor([1.], requires_grad=True)\n",
      "input to region:  tensor([124.], grad_fn=<AddBackward0>)\n",
      "torch_function <method 'mul' of 'torch._C.TensorBase' objects> () (tensor([124.], grad_fn=<AddBackward0>), tensor([2.], requires_grad=True))\n",
      "input to region:  tensor([124.], grad_fn=<AddBackward0>)\n",
      "input to region:  tensor([2.], requires_grad=True)\n"
     ]
    }
   ],
   "source": [
    "import torch\n",
    "import torch_xla\n",
    "import torch_xla.utils.checkpoint\n",
    "import torch_xla.core.xla_model as xm\n",
    "import torch.nn as nn\n",
    "import torch.nn.functional as F\n",
    "import torch.optim as optim\n",
    "\n",
    "from torch.utils.weak import WeakTensorKeyDictionary\n",
    "import contextlib\n",
    "from torch.overrides import TorchFunctionMode\n",
    "from torch.utils._pytree import tree_map_only\n",
    "from torch.utils.checkpoint import checkpoint\n",
    "\n",
    "\n",
    "class MarkInputsToRegion(TorchFunctionMode):\n",
    "\n",
    "  def __init__(self, mark_fn):\n",
    "    # tensor -> bool\n",
    "    self.is_marked = WeakTensorKeyDictionary()\n",
    "    self.mark_fn = mark_fn\n",
    "\n",
    "  # This will be called on every torch function call during backwards.\n",
    "  def __torch_function__(self, func, types, args=(), kwargs=None):\n",
    "    if kwargs is None:\n",
    "      kwargs = {}\n",
    "\n",
    "    def mark(x):\n",
    "      self.mark_fn(x)\n",
    "      self.is_marked[x] = True\n",
    "\n",
    "    print(\"torch_function\", func, types, args)\n",
    "    tree_map_only(torch.Tensor, mark, (args, kwargs))\n",
    "    out = func(*args, **kwargs)\n",
    "    tree_map_only(torch.Tensor, mark, out)\n",
    "    return out\n",
    "\n",
    "\n",
    "def context_fn():\n",
    "\n",
    "  def mark_fn(x):\n",
    "    print(\"input to region: \", x)\n",
    "\n",
    "  # First context wraps initial computation.\n",
    "  # Second context wraps recomputation.\n",
    "  return contextlib.nullcontext(), MarkInputsToRegion(mark_fn)\n",
    "\n",
    "\n",
    "# Test a tensor that is closed over\n",
    "y = torch.tensor([2.], requires_grad=True)\n",
    "x = torch.tensor([1.], requires_grad=True)\n",
    "\n",
    "\n",
    "def func(x):\n",
    "  out = (x + 123) * y\n",
    "  return out.clone()\n",
    "\n",
    "\n",
    "out = checkpoint(func, x, context_fn=context_fn, use_reentrant=False)\n",
    "assert out is not None\n",
    "out.sum().backward()\n"
   ]
  },
  {
   "cell_type": "code",
   "execution_count": null,
   "metadata": {},
   "outputs": [],
   "source": []
  }
 ],
 "metadata": {
  "kernelspec": {
   "display_name": "Python 3",
   "language": "python",
   "name": "python3"
  },
  "language_info": {
   "codemirror_mode": {
    "name": "ipython",
    "version": 3
   },
   "file_extension": ".py",
   "mimetype": "text/x-python",
   "name": "python",
   "nbconvert_exporter": "python",
   "pygments_lexer": "ipython3",
   "version": "3.10.14"
  }
 },
 "nbformat": 4,
 "nbformat_minor": 2
}
