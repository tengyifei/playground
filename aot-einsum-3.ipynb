{
 "cells": [
  {
   "cell_type": "markdown",
   "metadata": {},
   "source": [
    "# Einsum investigation\n",
    "\n",
    "This notebook is a minimal reproducer of the lowering issue of einsum\n"
   ]
  },
  {
   "cell_type": "markdown",
   "metadata": {},
   "source": [
    "First we define a utility that inspects the lowering."
   ]
  },
  {
   "cell_type": "code",
   "execution_count": 9,
   "metadata": {},
   "outputs": [],
   "source": [
    "import torch\n",
    "import torch_xla\n",
    "\n",
    "def test_lowering(func):\n",
    "  x = torch.randn(3, 3, requires_grad=False)\n",
    "  y = torch.randn(3, 3, requires_grad=False)\n",
    "\n",
    "  x = x.to('xla')\n",
    "  y = y.to('xla')\n",
    "  out = func(x, y)\n",
    "  ir = torch_xla._XLAC._get_xla_tensors_text([out])\n",
    "  if 'einsum' not in ir:\n",
    "    print(\"!!!!!!!!!!WRONG!!!!!!!!!!! Did not find einsum in lowering\")\n",
    "    print(\"IR:\")\n",
    "    print(ir)\n",
    "  else:\n",
    "    print(\"OK\")"
   ]
  },
  {
   "cell_type": "markdown",
   "metadata": {},
   "source": [
    "Then we test this on a regular einsum function."
   ]
  },
  {
   "cell_type": "code",
   "execution_count": 10,
   "metadata": {},
   "outputs": [
    {
     "name": "stdout",
     "output_type": "stream",
     "text": [
      "OK\n"
     ]
    }
   ],
   "source": [
    "test_lowering(lambda a, b: torch.einsum('...n,mn->...m', a, b))"
   ]
  },
  {
   "cell_type": "markdown",
   "metadata": {},
   "source": [
    "Next we define a custom op that wraps said einsum."
   ]
  },
  {
   "cell_type": "code",
   "execution_count": 13,
   "metadata": {},
   "outputs": [],
   "source": [
    "import torch\n",
    "from torch import Tensor\n",
    "from torch.library import custom_op\n",
    "\n",
    "@custom_op(\"xla::custom_linear_forward123\", schema=\"(Tensor input, Tensor weight) -> Tensor\", mutates_args=())\n",
    "def custom_linear_forward123(input: Tensor, weight: Tensor):\n",
    "    return torch.einsum('...n,mn->...m', input, weight)\n"
   ]
  },
  {
   "cell_type": "markdown",
   "metadata": {},
   "source": [
    "Let's test the custom op"
   ]
  },
  {
   "cell_type": "code",
   "execution_count": 14,
   "metadata": {},
   "outputs": [
    {
     "name": "stdout",
     "output_type": "stream",
     "text": [
      "!!!!!!!!!!WRONG!!!!!!!!!!! Did not find einsum in lowering\n",
      "IR:\n",
      "IR {\n",
      "  %0 = f32[3,3]{1,0} xla::device_data(), xla_shape=f32[3,3]{1,0}\n",
      "  %1 = f32[3,3,1]{2,1,0} aten::as_strided(%0), xla_shape=f32[3,3,1]{2,1,0}\n",
      "  %2 = f32[3,3,1]{2,1,0} aten::as_strided(%1), xla_shape=f32[3,3,1]{2,1,0}\n",
      "  %3 = f32[1,3,3]{2,1,0} aten::view(%2), xla_shape=f32[1,3,3]{2,1,0}\n",
      "  %4 = f32[3,3]{1,0} xla::device_data(), xla_shape=f32[3,3]{1,0}\n",
      "  %5 = f32[3,3,1]{2,1,0} aten::as_strided(%4), xla_shape=f32[3,3,1]{2,1,0}\n",
      "  %6 = f32[3,3,1]{2,1,0} aten::as_strided(%5), xla_shape=f32[3,3,1]{2,1,0}\n",
      "  %7 = f32[1,3,3]{2,1,0} aten::view(%6), xla_shape=f32[1,3,3]{2,1,0}\n",
      "  %8 = f32[1,3,3]{2,1,0} aten::matmul(%7, %3), xla_shape=f32[1,3,3]{2,1,0}\n",
      "  %9 = f32[3,1,3]{2,1,0} aten::view(%8), xla_shape=f32[3,1,3]{2,1,0}\n",
      "  %10 = f32[3,3,1]{2,1,0} aten::as_strided(%9), xla_shape=f32[3,3,1]{2,1,0}\n",
      "  %11 = f32[3,3]{1,0} aten::view(%10), xla_shape=f32[3,3]{1,0}, ROOT=0\n",
      "}\n",
      "\n"
     ]
    }
   ],
   "source": [
    "test_lowering(lambda a, b: custom_linear_forward123(a, b))"
   ]
  },
  {
   "cell_type": "code",
   "execution_count": null,
   "metadata": {},
   "outputs": [],
   "source": []
  }
 ],
 "metadata": {
  "kernelspec": {
   "display_name": "Python 3",
   "language": "python",
   "name": "python3"
  },
  "language_info": {
   "codemirror_mode": {
    "name": "ipython",
    "version": 3
   },
   "file_extension": ".py",
   "mimetype": "text/x-python",
   "name": "python",
   "nbconvert_exporter": "python",
   "pygments_lexer": "ipython3",
   "version": "3.10.14"
  }
 },
 "nbformat": 4,
 "nbformat_minor": 2
}
