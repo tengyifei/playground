{
 "cells": [
  {
   "cell_type": "code",
   "execution_count": 1,
   "metadata": {},
   "outputs": [
    {
     "name": "stderr",
     "output_type": "stream",
     "text": [
      "/workspaces/torch/pytorch/xla/torch_xla/__init__.py:251: UserWarning: `tensorflow` can conflict with `torch-xla`. Prefer `tensorflow-cpu` when using PyTorch/XLA. To silence this warning, `pip uninstall -y tensorflow && pip install tensorflow-cpu`. If you are in a notebook environment such as Colab or Kaggle, restart your notebook runtime afterwards.\n",
      "  warnings.warn(\n",
      "WARNING:root:libtpu.so and TPU device found. Setting PJRT_DEVICE=TPU.\n"
     ]
    }
   ],
   "source": [
    "import torch\n",
    "from torch import nn as nn\n",
    "\n",
    "import torch_xla\n",
    "import torch_xla.core.xla_model as xm\n",
    "from torch_xla import runtime as xr\n",
    "from torch_xla._internal import tpu\n",
    "from torch_xla.experimental.scan_layers import scan_layers\n",
    "import torch_xla.distributed.spmd as xs\n",
    "import numpy as np\n",
    "\n",
    "import torch_xla.debug.metrics as met\n",
    "from torch_xla.experimental.custom_kernel import flash_attention\n",
    "\n",
    "xr.use_spmd()\n",
    "\n",
    "n_devices = xr.global_runtime_device_count()\n",
    "xs.set_global_mesh(xs.HybridMesh(\n",
    "  ici_mesh_shape=(4, 1),\n",
    "  dcn_mesh_shape=(1, 1),\n",
    "  axis_names=(\"fsdp\", \"tensor\"),\n",
    "))\n"
   ]
  },
  {
   "cell_type": "code",
   "execution_count": 2,
   "metadata": {},
   "outputs": [],
   "source": [
    "class FakeAttention(torch.nn.Module):\n",
    "  def __init__(self, num_head=4, hidden_dim=256):\n",
    "    super(FakeAttention, self).__init__()\n",
    "    self.num_head = num_head\n",
    "    self.hidden_dim = hidden_dim\n",
    "    # self.d_k = hidden_dim // num_head\n",
    "    self.fc = nn.Linear(hidden_dim, hidden_dim)\n",
    "\n",
    "  def forward(self, input):\n",
    "    # query_states: [B, NUM_HEAD, SEQ_LEN, d_k]\n",
    "    # attn_output: [B, SEQ_LEN, d_m], dm = dk * NUM_HEAD\n",
    "    query_states = input.clone()\n",
    "    key_states = input.clone()\n",
    "    value_states = input.clone()\n",
    "    attn_output = flash_attention(\n",
    "        query_states,\n",
    "        key_states,\n",
    "        value_states,\n",
    "        causal=True,\n",
    "        partition_spec=(\"fsdp\", \"tensor\", None, None),\n",
    "      )\n",
    "    # print(attn_output.shape)\n",
    "    # B, SEQ_LEN, d_m = attn_output.shape\n",
    "    # output = attn_output.reshape(B, SEQ_LEN, NUM_HEAD, self.d_k).permute(0, 2, 1, 3)\n",
    "    # attn_output = self.fc(attn_output)\n",
    "    return attn_output\n",
    "\n",
    "\n",
    "class DummyModule(torch.nn.Module):\n",
    "  def __init__(self, num_layer=3, scan: bool = False):\n",
    "    super(DummyModule, self).__init__()\n",
    "    self.num_layer = num_layer\n",
    "    self.layers = nn.ModuleList([FakeAttention() for i in range(self.num_layer)])\n",
    "    self.scan = scan\n",
    "  def forward(self, input):\n",
    "    hidden_states = input\n",
    "    xs.mark_sharding(hidden_states, xs.get_global_mesh(), (\"fsdp\", \"tensor\", None, None))\n",
    "    if self.scan:\n",
    "      hidden_states = scan_layers(self.layers, input_data = hidden_states)\n",
    "    else:\n",
    "      for layer in self.layers:\n",
    "        hidden_states = layer(hidden_states)\n",
    "    return hidden_states\n"
   ]
  },
  {
   "cell_type": "code",
   "execution_count": null,
   "metadata": {},
   "outputs": [
    {
     "ename": "",
     "evalue": "",
     "output_type": "error",
     "traceback": [
      "\u001b[1;31mThe Kernel crashed while executing code in the current cell or a previous cell. \n",
      "\u001b[1;31mPlease review the code in the cell(s) to identify a possible cause of the failure. \n",
      "\u001b[1;31mClick <a href='https://aka.ms/vscodeJupyterKernelCrash'>here</a> for more info. \n",
      "\u001b[1;31mView Jupyter <a href='command:jupyter.viewOutput'>log</a> for further details."
     ]
    }
   ],
   "source": [
    "@torch_xla.compile(full_graph=False)\n",
    "def test_fa_layers(scan: bool):\n",
    "  with xm.xla_device():\n",
    "    dm = DummyModule(3, scan=scan)\n",
    "    hidden_states= torch.randn((2, 4, 256, 256)).requires_grad_()\n",
    "  output = dm(hidden_states)\n",
    "  loss = output.sum()\n",
    "  loss.backward()\n",
    "  print(hidden_states.grad)\n",
    "  # print(output)"
   ]
  },
  {
   "cell_type": "code",
   "execution_count": null,
   "metadata": {},
   "outputs": [],
   "source": [
    "test_fa_layers(scan=False)"
   ]
  },
  {
   "cell_type": "code",
   "execution_count": null,
   "metadata": {},
   "outputs": [],
   "source": []
  }
 ],
 "metadata": {
  "kernelspec": {
   "display_name": "Python 3",
   "language": "python",
   "name": "python3"
  },
  "language_info": {
   "codemirror_mode": {
    "name": "ipython",
    "version": 3
   },
   "file_extension": ".py",
   "mimetype": "text/x-python",
   "name": "python",
   "nbconvert_exporter": "python",
   "pygments_lexer": "ipython3",
   "version": "3.10.14"
  }
 },
 "nbformat": 4,
 "nbformat_minor": 2
}
