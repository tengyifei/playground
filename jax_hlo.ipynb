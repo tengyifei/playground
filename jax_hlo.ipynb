{
 "cells": [
  {
   "cell_type": "code",
   "execution_count": 1,
   "metadata": {},
   "outputs": [
    {
     "name": "stdout",
     "output_type": "stream",
     "text": [
      "env: PJRT_DEVICE=CPU\n"
     ]
    }
   ],
   "source": [
    "%env PJRT_DEVICE=CPU"
   ]
  },
  {
   "cell_type": "code",
   "execution_count": 4,
   "metadata": {},
   "outputs": [],
   "source": [
    "import jax.tools.jax_to_ir\n",
    "from jax import numpy, grad\n",
    "from jax.lib import xla_client\n",
    "\n",
    "def tanh(x):  \n",
    "  y = numpy.exp(-2.0 * x)\n",
    "  return (1.0 - y) / (1.0 + y)\n",
    "\n",
    "def lfn(x):\n",
    "    return numpy.log(tanh(x).sum())\n",
    "\n",
    "def dlfn(x):\n",
    "    return  grad(lfn)(x)\n",
    "\n",
    "with open(\"t.txt\", \"w\") as f:\n",
    "    f.write(jax.tools.jax_to_ir.jax_to_ir(dlfn, [ (\"x\" , numpy.array([1.0]*100)) ], format=\"HLO\")[1])\n"
   ]
  },
  {
   "cell_type": "code",
   "execution_count": null,
   "metadata": {},
   "outputs": [],
   "source": []
  }
 ],
 "metadata": {
  "kernelspec": {
   "display_name": "Python 3",
   "language": "python",
   "name": "python3"
  },
  "language_info": {
   "codemirror_mode": {
    "name": "ipython",
    "version": 3
   },
   "file_extension": ".py",
   "mimetype": "text/x-python",
   "name": "python",
   "nbconvert_exporter": "python",
   "pygments_lexer": "ipython3",
   "version": "3.10.14"
  }
 },
 "nbformat": 4,
 "nbformat_minor": 2
}
