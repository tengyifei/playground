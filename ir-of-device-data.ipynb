{
 "cells": [
  {
   "cell_type": "code",
   "execution_count": 1,
   "metadata": {},
   "outputs": [
    {
     "name": "stdout",
     "output_type": "stream",
     "text": [
      "env: XLA_IR_DEBUG=1\n",
      "env: XLA_HLO_DEBUG=1\n"
     ]
    }
   ],
   "source": [
    "%env XLA_IR_DEBUG=1\n",
    "%env XLA_HLO_DEBUG=1"
   ]
  },
  {
   "cell_type": "code",
   "execution_count": 5,
   "metadata": {},
   "outputs": [],
   "source": [
    "import torch\n",
    "import torch_xla\n",
    "import torch_xla.debug.metrics as xm"
   ]
  },
  {
   "cell_type": "code",
   "execution_count": 6,
   "metadata": {},
   "outputs": [],
   "source": [
    "xm.clear_all()"
   ]
  },
  {
   "cell_type": "code",
   "execution_count": 7,
   "metadata": {},
   "outputs": [
    {
     "name": "stdout",
     "output_type": "stream",
     "text": [
      "IR {\n",
      "  %0 = f32[100]{0} xla::device_data(), location=<module>@3958692764.py:2, xla_shape=f32[100]{0}, ROOT=0\n",
      "}\n",
      "\n"
     ]
    }
   ],
   "source": [
    "cpu_data = torch.empty(100)\n",
    "xla_data = cpu_data.to(torch_xla.device())\n",
    "print(torch_xla._XLAC._get_xla_tensors_text([xla_data]))"
   ]
  },
  {
   "cell_type": "code",
   "execution_count": 9,
   "metadata": {},
   "outputs": [
    {
     "name": "stdout",
     "output_type": "stream",
     "text": [
      "Metric: IrValueTensorToXlaData\n",
      "  TotalSamples: 1\n",
      "  Accumulator: 135.540us\n",
      "  Percentiles: 1%=135.540us; 5%=135.540us; 10%=135.540us; 20%=135.540us; 50%=135.540us; 80%=135.540us; 90%=135.540us; 95%=135.540us; 99%=135.540us\n",
      "Metric: TransferToDeviceTime\n",
      "  TotalSamples: 1\n",
      "  Accumulator: 075.240us\n",
      "  Percentiles: 1%=075.240us; 5%=075.240us; 10%=075.240us; 20%=075.240us; 50%=075.240us; 80%=075.240us; 90%=075.240us; 95%=075.240us; 99%=075.240us\n",
      "\n"
     ]
    }
   ],
   "source": [
    "print(xm.short_metrics_report(metric_names=[\"IrValueTensorToXlaData\", \"TransferToDeviceTime\"]))"
   ]
  },
  {
   "cell_type": "code",
   "execution_count": 10,
   "metadata": {},
   "outputs": [],
   "source": [
    "xm.clear_all()"
   ]
  },
  {
   "cell_type": "code",
   "execution_count": 11,
   "metadata": {},
   "outputs": [
    {
     "name": "stdout",
     "output_type": "stream",
     "text": [
      "IR {\n",
      "  %0 = f32[] prim::Constant(), location=<module>@3966884628.py:1, xla_shape=f32[]\n",
      "  %1 = f32[100]{0} aten::expand(%0), location=<module>@3966884628.py:1, xla_shape=f32[100]{0}, ROOT=0\n",
      "}\n",
      "\n"
     ]
    }
   ],
   "source": [
    "xla_op = torch.empty(100, device=torch_xla.device())\n",
    "print(torch_xla._XLAC._get_xla_tensors_text([xla_op]))"
   ]
  },
  {
   "cell_type": "code",
   "execution_count": 12,
   "metadata": {},
   "outputs": [
    {
     "name": "stdout",
     "output_type": "stream",
     "text": [
      "\n"
     ]
    }
   ],
   "source": [
    "print(xm.short_metrics_report(metric_names=[\"IrValueTensorToXlaData\", \"TransferToDeviceTime\"]))"
   ]
  },
  {
   "cell_type": "code",
   "execution_count": null,
   "metadata": {},
   "outputs": [],
   "source": []
  }
 ],
 "metadata": {
  "kernelspec": {
   "display_name": "Python 3",
   "language": "python",
   "name": "python3"
  },
  "language_info": {
   "codemirror_mode": {
    "name": "ipython",
    "version": 3
   },
   "file_extension": ".py",
   "mimetype": "text/x-python",
   "name": "python",
   "nbconvert_exporter": "python",
   "pygments_lexer": "ipython3",
   "version": "3.10.14"
  }
 },
 "nbformat": 4,
 "nbformat_minor": 2
}
