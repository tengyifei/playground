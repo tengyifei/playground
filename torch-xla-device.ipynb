{
 "cells": [
  {
   "cell_type": "code",
   "execution_count": 1,
   "id": "849ec1c7",
   "metadata": {},
   "outputs": [
    {
     "name": "stderr",
     "output_type": "stream",
     "text": [
      "WARNING:root:libtpu.so and TPU device found. Setting PJRT_DEVICE=TPU.\n"
     ]
    }
   ],
   "source": [
    "import torch\n",
    "import torch_xla"
   ]
  },
  {
   "cell_type": "code",
   "execution_count": 2,
   "id": "9a12d703",
   "metadata": {},
   "outputs": [
    {
     "name": "stdout",
     "output_type": "stream",
     "text": [
      "The slowest run took 8.50 times longer than the fastest. This could mean that an intermediate result is being cached.\n",
      "41.1 μs ± 48.8 μs per loop (mean ± std. dev. of 7 runs, 1 loop each)\n"
     ]
    }
   ],
   "source": [
    "%timeit torch.tensor(1.0, device=\"xla:2\")"
   ]
  },
  {
   "cell_type": "code",
   "execution_count": 3,
   "id": "af211da2",
   "metadata": {},
   "outputs": [
    {
     "name": "stdout",
     "output_type": "stream",
     "text": [
      "2.95 μs ± 60.4 ns per loop (mean ± std. dev. of 7 runs, 100,000 loops each)\n"
     ]
    }
   ],
   "source": [
    "%timeit torch_xla.device()"
   ]
  },
  {
   "cell_type": "code",
   "execution_count": null,
   "id": "ac721a1d",
   "metadata": {},
   "outputs": [
    {
     "data": {
      "text/plain": [
       "(device(type='xla', index=1), device(type='xla', index=2))"
      ]
     },
     "execution_count": 4,
     "metadata": {},
     "output_type": "execute_result"
    }
   ],
   "source": [
    "a = torch.tensor(1.0, device=\"xla:1\")\n",
    "b = torch.tensor(1.0, device=\"xla:2\") \n",
    "a.device, b.device"
   ]
  },
  {
   "cell_type": "code",
   "execution_count": 5,
   "id": "3a698f5f",
   "metadata": {},
   "outputs": [
    {
     "data": {
      "text/plain": [
       "False"
      ]
     },
     "execution_count": 5,
     "metadata": {},
     "output_type": "execute_result"
    }
   ],
   "source": [
    "a.device == b.device"
   ]
  },
  {
   "cell_type": "code",
   "execution_count": 6,
   "id": "f363a16d",
   "metadata": {},
   "outputs": [
    {
     "data": {
      "text/plain": [
       "'xla'"
      ]
     },
     "execution_count": 6,
     "metadata": {},
     "output_type": "execute_result"
    }
   ],
   "source": [
    "a.device.type"
   ]
  },
  {
   "cell_type": "code",
   "execution_count": 7,
   "id": "934d6ac1",
   "metadata": {},
   "outputs": [
    {
     "data": {
      "text/plain": [
       "tensor(2., device='xla:1')"
      ]
     },
     "execution_count": 7,
     "metadata": {},
     "output_type": "execute_result"
    }
   ],
   "source": [
    "a + b"
   ]
  },
  {
   "cell_type": "code",
   "execution_count": 8,
   "id": "baa7a9cf",
   "metadata": {},
   "outputs": [
    {
     "data": {
      "text/plain": [
       "tensor(2., device='xla:1')"
      ]
     },
     "execution_count": 8,
     "metadata": {},
     "output_type": "execute_result"
    }
   ],
   "source": [
    "a + b.cpu()"
   ]
  },
  {
   "cell_type": "code",
   "execution_count": null,
   "id": "b998d43e",
   "metadata": {},
   "outputs": [],
   "source": []
  }
 ],
 "metadata": {
  "kernelspec": {
   "display_name": "Python 3",
   "language": "python",
   "name": "python3"
  },
  "language_info": {
   "codemirror_mode": {
    "name": "ipython",
    "version": 3
   },
   "file_extension": ".py",
   "mimetype": "text/x-python",
   "name": "python",
   "nbconvert_exporter": "python",
   "pygments_lexer": "ipython3",
   "version": "3.10.16"
  }
 },
 "nbformat": 4,
 "nbformat_minor": 5
}
