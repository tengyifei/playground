{
 "cells": [
  {
   "cell_type": "code",
   "execution_count": 3,
   "metadata": {},
   "outputs": [],
   "source": [
    "import torch\n",
    "import torchax"
   ]
  },
  {
   "cell_type": "code",
   "execution_count": 2,
   "metadata": {},
   "outputs": [
    {
     "data": {
      "text/plain": [
       "<torchax.tensor.Environment at 0x79c3742a5c30>"
      ]
     },
     "execution_count": 2,
     "metadata": {},
     "output_type": "execute_result"
    }
   ],
   "source": [
    "torchax.enable_globally()"
   ]
  },
  {
   "cell_type": "code",
   "execution_count": 7,
   "metadata": {},
   "outputs": [],
   "source": [
    "def output_rand():\n",
    "  return torch.randint(0, 10, (3, ), device='jax')"
   ]
  },
  {
   "cell_type": "code",
   "execution_count": 10,
   "metadata": {},
   "outputs": [
    {
     "name": "stdout",
     "output_type": "stream",
     "text": [
      "Tensor(<class 'jaxlib.xla_extension.ArrayImpl'> [2 5 9])\n",
      "Tensor(<class 'jaxlib.xla_extension.ArrayImpl'> [9 2 3])\n",
      "Tensor(<class 'jaxlib.xla_extension.ArrayImpl'> [4 5 7])\n"
     ]
    }
   ],
   "source": [
    "# I can run this a bunch of times and get differen random numbers\n",
    "print(output_rand())\n",
    "print(output_rand())\n",
    "print(output_rand())"
   ]
  },
  {
   "cell_type": "code",
   "execution_count": null,
   "metadata": {},
   "outputs": [
    {
     "name": "stdout",
     "output_type": "stream",
     "text": [
      "Tensor(<class 'jaxlib.xla_extension.ArrayImpl'> [6 5 6])\n",
      "Tensor(<class 'jaxlib.xla_extension.ArrayImpl'> [6 5 6])\n",
      "Tensor(<class 'jaxlib.xla_extension.ArrayImpl'> [6 5 6])\n"
     ]
    }
   ],
   "source": [
    "from torchax.interop import jax_jit\n",
    "\n",
    "# But if I run the jitted version, I get the same random numbers every time\n",
    "jitted = jax_jit(output_rand)\n",
    "print(jitted())\n",
    "print(jitted())\n",
    "print(jitted())"
   ]
  },
  {
   "cell_type": "code",
   "execution_count": null,
   "metadata": {},
   "outputs": [],
   "source": []
  }
 ],
 "metadata": {
  "kernelspec": {
   "display_name": "Python 3",
   "language": "python",
   "name": "python3"
  },
  "language_info": {
   "codemirror_mode": {
    "name": "ipython",
    "version": 3
   },
   "file_extension": ".py",
   "mimetype": "text/x-python",
   "name": "python",
   "nbconvert_exporter": "python",
   "pygments_lexer": "ipython3",
   "version": "3.10.15"
  }
 },
 "nbformat": 4,
 "nbformat_minor": 2
}
