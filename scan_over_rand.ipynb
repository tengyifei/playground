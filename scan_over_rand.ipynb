{
 "cells": [
  {
   "cell_type": "code",
   "execution_count": 1,
   "metadata": {},
   "outputs": [
    {
     "name": "stdout",
     "output_type": "stream",
     "text": [
      "env: XLA_IR_DEBUG=1\n",
      "env: XLA_HLO_DEBUG=1\n"
     ]
    }
   ],
   "source": [
    "%env XLA_IR_DEBUG=1\n",
    "%env XLA_HLO_DEBUG=1"
   ]
  },
  {
   "cell_type": "code",
   "execution_count": 2,
   "metadata": {},
   "outputs": [
    {
     "name": "stderr",
     "output_type": "stream",
     "text": [
      "WARNING:root:libtpu.so and TPU device found. Setting PJRT_DEVICE=TPU.\n"
     ]
    }
   ],
   "source": [
    "import torch\n",
    "import torch.nn as nn\n",
    "import torch_xla"
   ]
  },
  {
   "cell_type": "code",
   "execution_count": 3,
   "metadata": {},
   "outputs": [],
   "source": [
    "from torch_xla.experimental.scan import scan"
   ]
  },
  {
   "cell_type": "code",
   "execution_count": 6,
   "metadata": {},
   "outputs": [
    {
     "name": "stdout",
     "output_type": "stream",
     "text": [
      "GetRngSeed of device 0x560b0db483c0\n",
      "Init seed value from scalar: 101\n",
      "Update seed to: 24146324\n"
     ]
    },
    {
     "data": {
      "text/plain": [
       "(tensor([0., 0.], device='xla:0'),\n",
       " tensor([[0.4245, 0.1542],\n",
       "         [0.4245, 0.1542],\n",
       "         [0.4245, 0.1542]], device='xla:0'))"
      ]
     },
     "execution_count": 6,
     "metadata": {},
     "output_type": "execute_result"
    }
   ],
   "source": [
    "def step_fn(carry, x):\n",
    "  new_carry = carry + x\n",
    "  y = new_carry + torch.rand(2, device=torch_xla.device())\n",
    "  return new_carry, y\n",
    "\n",
    "init = torch.tensor([0.0, 0.0], device=torch_xla.device())\n",
    "xs = torch.tensor([[0.0, 0.0], [0.0, 0.0], [0.0, 0.0]], device=torch_xla.device())\n",
    "\n",
    "# Bug: because we reuse the same graph from the first layer, all the random numbers\n",
    "# produced from each step are the same.\n",
    "#\n",
    "# To fix the bug, we need to verify that the HLO from each step are the same,\n",
    "# and that any additional input tensors (not part of `xs`) must also be the same.\n",
    "# Then the use of RNG will result in different HLOs and at least we can fail with\n",
    "# an error.\n",
    "#\n",
    "# In contrast, in JAX and Flax, people thread the RNG state explicitly, and they\n",
    "# can simply fork the RNG before calling each decoder layer. They can even pre-fork\n",
    "# the RNG state and give a bunch of different seeds to `scan`.\n",
    "scan(step_fn, init, xs)"
   ]
  },
  {
   "cell_type": "code",
   "execution_count": null,
   "metadata": {},
   "outputs": [],
   "source": []
  }
 ],
 "metadata": {
  "kernelspec": {
   "display_name": "Python 3",
   "language": "python",
   "name": "python3"
  },
  "language_info": {
   "codemirror_mode": {
    "name": "ipython",
    "version": 3
   },
   "file_extension": ".py",
   "mimetype": "text/x-python",
   "name": "python",
   "nbconvert_exporter": "python",
   "pygments_lexer": "ipython3",
   "version": "3.10.14"
  }
 },
 "nbformat": 4,
 "nbformat_minor": 2
}
