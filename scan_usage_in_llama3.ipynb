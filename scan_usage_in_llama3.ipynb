{
 "cells": [
  {
   "cell_type": "markdown",
   "metadata": {},
   "source": [
    "# Test `scan` and `apply_layers` in Llama 3\n",
    "\n",
    "Hugging Face usage follows https://github.com/huggingface/notebooks/blob/main/examples/language_modeling.ipynb\n",
    "\n",
    "To test scan, we need to use a custom modification of the transformer repo:\n",
    "https://github.com/tengyifei/transformers/commit/646a575928d8514f220384c29d27c8b956826a91"
   ]
  },
  {
   "cell_type": "code",
   "execution_count": 1,
   "metadata": {},
   "outputs": [
    {
     "name": "stdout",
     "output_type": "stream",
     "text": [
      "env: PJRT_DEVICE=TPU\n",
      "env: XLA_USE_SPMD=1\n"
     ]
    }
   ],
   "source": [
    "%env PJRT_DEVICE=TPU\n",
    "%env XLA_USE_SPMD=1"
   ]
  },
  {
   "cell_type": "code",
   "execution_count": 2,
   "metadata": {},
   "outputs": [],
   "source": [
    "import torch\n",
    "import torch_xla"
   ]
  },
  {
   "cell_type": "code",
   "execution_count": 3,
   "metadata": {},
   "outputs": [
    {
     "name": "stderr",
     "output_type": "stream",
     "text": [
      "/usr/local/lib/python3.10/site-packages/tqdm/auto.py:21: TqdmWarning: IProgress not found. Please update jupyter and ipywidgets. See https://ipywidgets.readthedocs.io/en/stable/user_install.html\n",
      "  from .autonotebook import tqdm as notebook_tqdm\n",
      "Downloading data: 100%|██████████| 722k/722k [00:00<00:00, 2.66MB/s]\n",
      "Downloading data: 100%|██████████| 156M/156M [00:01<00:00, 91.4MB/s] \n",
      "Downloading data: 100%|██████████| 156M/156M [00:01<00:00, 94.5MB/s] \n",
      "Downloading data: 100%|██████████| 655k/655k [00:00<00:00, 3.16MB/s]\n",
      "Generating test split: 100%|██████████| 4358/4358 [00:00<00:00, 15298.90 examples/s]\n",
      "Generating train split: 100%|██████████| 1801350/1801350 [00:02<00:00, 874436.10 examples/s]\n",
      "Generating validation split: 100%|██████████| 3760/3760 [00:00<00:00, 654001.12 examples/s]\n"
     ]
    }
   ],
   "source": [
    "from datasets import load_dataset\n",
    "\n",
    "dataset = load_dataset(\"Salesforce/wikitext\", \"wikitext-103-v1\")"
   ]
  },
  {
   "cell_type": "code",
   "execution_count": 4,
   "metadata": {},
   "outputs": [
    {
     "name": "stderr",
     "output_type": "stream",
     "text": [
      "Map: 100%|██████████| 4358/4358 [00:00<00:00, 8769.23 examples/s]\n",
      "Map: 100%|██████████| 1801350/1801350 [02:31<00:00, 11910.55 examples/s]\n",
      "Map: 100%|██████████| 3760/3760 [00:00<00:00, 13159.53 examples/s]\n"
     ]
    }
   ],
   "source": [
    "from transformers import AutoTokenizer\n",
    "\n",
    "tokenizer = AutoTokenizer.from_pretrained(\"meta-llama/Meta-Llama-3-8B\")\n",
    "tokenizer.bos_token_id = 128000\n",
    "tokenizer.eos_token_id = 128001\n",
    "tokenizer.pad_token_id = tokenizer.eos_token_id \n",
    "\n",
    "def tokenize_function(examples):\n",
    "    return tokenizer(examples[\"text\"], padding=\"max_length\", truncation=True, max_length=128)\n",
    "\n",
    "# Tokenize the dataset\n",
    "tokenized_datasets = dataset.map(tokenize_function, batched=True, remove_columns=[\"text\"], batch_size=1000)"
   ]
  },
  {
   "cell_type": "code",
   "execution_count": 5,
   "metadata": {},
   "outputs": [
    {
     "data": {
      "text/plain": [
       "dict_keys(['test', 'train', 'validation'])"
      ]
     },
     "execution_count": 5,
     "metadata": {},
     "output_type": "execute_result"
    }
   ],
   "source": [
    "tokenized_datasets.keys()  # type:ignore"
   ]
  },
  {
   "cell_type": "code",
   "execution_count": 6,
   "metadata": {},
   "outputs": [
    {
     "data": {
      "text/plain": [
       "dict_keys(['input_ids', 'attention_mask'])"
      ]
     },
     "execution_count": 6,
     "metadata": {},
     "output_type": "execute_result"
    }
   ],
   "source": [
    "tokenized_datasets[\"train\"][1].keys()  # type:ignore"
   ]
  },
  {
   "cell_type": "code",
   "execution_count": 7,
   "metadata": {},
   "outputs": [
    {
     "name": "stderr",
     "output_type": "stream",
     "text": [
      "Map: 100%|██████████| 4358/4358 [00:02<00:00, 1850.07 examples/s]\n",
      "Map: 100%|██████████| 1801350/1801350 [16:50<00:00, 1782.54 examples/s]\n",
      "Map: 100%|██████████| 3760/3760 [00:02<00:00, 1859.26 examples/s]\n"
     ]
    }
   ],
   "source": [
    "block_size = 128\n",
    "\n",
    "def group_texts(examples):\n",
    "    # Concatenate all texts.\n",
    "    concatenated_examples = {k: sum(examples[k], []) for k in examples.keys()}\n",
    "    total_length = len(concatenated_examples[list(examples.keys())[0]])\n",
    "    # We drop the small remainder, we could add padding if the model supported it instead of this drop, you can\n",
    "    # customize this part to your needs.\n",
    "    total_length = (total_length // block_size) * block_size\n",
    "    # Split by chunks of max_len.\n",
    "    result = {\n",
    "        k: [t[i : i + block_size] for i in range(0, total_length, block_size)]\n",
    "        for k, t in concatenated_examples.items()\n",
    "    }\n",
    "    result[\"labels\"] = result[\"input_ids\"].copy()\n",
    "    return result\n",
    "\n",
    "lm_datasets = tokenized_datasets.map(\n",
    "    group_texts,\n",
    "    batched=True,\n",
    "    batch_size=1000,\n",
    ")"
   ]
  },
  {
   "cell_type": "code",
   "execution_count": 8,
   "metadata": {},
   "outputs": [
    {
     "data": {
      "text/plain": [
       "(dict_keys(['input_ids', 'attention_mask', 'labels']),\n",
       " dict_keys(['input_ids', 'attention_mask', 'labels']))"
      ]
     },
     "execution_count": 8,
     "metadata": {},
     "output_type": "execute_result"
    }
   ],
   "source": [
    "lm_datasets[\"train\"][1].keys(), lm_datasets[\"validation\"][1].keys()  # type:ignore"
   ]
  },
  {
   "cell_type": "code",
   "execution_count": 9,
   "metadata": {},
   "outputs": [
    {
     "data": {
      "text/plain": [
       "3760"
      ]
     },
     "execution_count": 9,
     "metadata": {},
     "output_type": "execute_result"
    }
   ],
   "source": [
    "len(lm_datasets[\"validation\"])  # type:ignore"
   ]
  },
  {
   "cell_type": "code",
   "execution_count": 10,
   "metadata": {},
   "outputs": [],
   "source": [
    "from transformers import LlamaConfig, LlamaForCausalLM\n",
    "\n",
    "# Define model configuration\n",
    "config = LlamaConfig(\n",
    "    vocab_size=tokenizer.vocab_size,\n",
    "    hidden_size=512,  # Model size\n",
    "    num_hidden_layers=32,  # Number of transformer layers\n",
    "    num_attention_heads=8,  # Number of attention heads\n",
    "    intermediate_size=1024,  # Size of the hidden feedforward layer\n",
    "    max_position_embeddings=128,  # Max tokens in a sequence\n",
    "    use_cache=False,\n",
    "    unroll_decoders=True,\n",
    ")\n",
    "\n",
    "# Instantiate the model\n",
    "model = LlamaForCausalLM(config)"
   ]
  },
  {
   "cell_type": "code",
   "execution_count": 11,
   "metadata": {},
   "outputs": [
    {
     "name": "stderr",
     "output_type": "stream",
     "text": [
      "WARNING:root:torch_xla.core.xla_model.xrt_world_size() will be removed in release 2.6. is deprecated. Use torch_xla.runtime.world_size instead.\n",
      "WARNING:root:torch_xla.core.xla_model.xla_model.get_ordinal() will be removed in release 2.6. is deprecated. Use torch_xla.runtime.global_ordinal instead.\n",
      "WARNING:root:torch_xla.core.xla_model.xla_model.get_ordinal() will be removed in release 2.6. is deprecated. Use torch_xla.runtime.global_ordinal instead.\n"
     ]
    }
   ],
   "source": [
    "from transformers import TrainingArguments\n",
    "\n",
    "training_args = TrainingArguments(\n",
    "    output_dir=\"./results\",\n",
    "    eval_strategy=\"epoch\",\n",
    "    per_device_train_batch_size=48,\n",
    "    per_device_eval_batch_size=48,\n",
    "    num_train_epochs=1,\n",
    "    max_steps=2500,\n",
    "    save_strategy=\"no\",\n",
    "    save_total_limit=2,\n",
    "    learning_rate=2e-5,\n",
    "    weight_decay=0.01,\n",
    "    logging_dir='./logs',\n",
    "    logging_steps=500,\n",
    "    gradient_accumulation_steps=1,\n",
    "    fp16=False,\n",
    "    bf16=False,\n",
    "    tpu_num_cores=4,\n",
    "    push_to_hub=False,\n",
    ")"
   ]
  },
  {
   "cell_type": "code",
   "execution_count": 12,
   "metadata": {},
   "outputs": [
    {
     "name": "stderr",
     "output_type": "stream",
     "text": [
      "max_steps is given, it will override any value given in num_train_epochs\n"
     ]
    }
   ],
   "source": [
    "from transformers import Trainer\n",
    "\n",
    "trainer = Trainer(\n",
    "    model=model,\n",
    "    args=training_args,\n",
    "    train_dataset=lm_datasets[\"train\"].shuffle(seed=42),  # type:ignore\n",
    "    eval_dataset=lm_datasets[\"validation\"].shuffle(seed=42),  # type:ignore\n",
    "    tokenizer=tokenizer,\n",
    ")"
   ]
  },
  {
   "cell_type": "code",
   "execution_count": 13,
   "metadata": {},
   "outputs": [
    {
     "name": "stdout",
     "output_type": "stream",
     "text": [
      "NOTE: Using for loop to run decoder layers\n"
     ]
    },
    {
     "data": {
      "text/html": [
       "\n",
       "    <div>\n",
       "      \n",
       "      <progress value='2500' max='2500' style='width:300px; height:20px; vertical-align: middle;'></progress>\n",
       "      [2500/2500 43:47, Epoch 0/1]\n",
       "    </div>\n",
       "    <table border=\"1\" class=\"dataframe\">\n",
       "  <thead>\n",
       " <tr style=\"text-align: left;\">\n",
       "      <th>Epoch</th>\n",
       "      <th>Training Loss</th>\n",
       "      <th>Validation Loss</th>\n",
       "    </tr>\n",
       "  </thead>\n",
       "  <tbody>\n",
       "    <tr>\n",
       "      <td>0</td>\n",
       "      <td>6.259400</td>\n",
       "      <td>6.140633</td>\n",
       "    </tr>\n",
       "  </tbody>\n",
       "</table><p>"
      ],
      "text/plain": [
       "<IPython.core.display.HTML object>"
      ]
     },
     "metadata": {},
     "output_type": "display_data"
    },
    {
     "name": "stderr",
     "output_type": "stream",
     "text": [
      "/workspaces/torch/pytorch/xla/torch_xla/core/xla_model.py:1457: FutureWarning: You are using `torch.load` with `weights_only=False` (the current default value), which uses the default pickle module implicitly. It is possible to construct malicious pickle data which will execute arbitrary code during unpickling (See https://github.com/pytorch/pytorch/blob/main/SECURITY.md#untrusted-models for more details). In a future release, the default value for `weights_only` will be flipped to `True`. This limits the functions that could be executed during unpickling. Arbitrary objects will no longer be allowed to be loaded via this mode unless they are explicitly allowlisted by the user via `torch.serialization.add_safe_globals`. We recommend you start setting `weights_only=True` for any use case where you don't have full control of the loaded file. Please open an issue on GitHub for any issues related to this experimental feature.\n",
      "  xldata.append(torch.load(xbio))\n"
     ]
    },
    {
     "data": {
      "text/plain": [
       "TrainOutput(global_step=2500, training_loss=6.8357990234375, metrics={'train_runtime': 2629.9609, 'train_samples_per_second': 45.628, 'train_steps_per_second': 0.951, 'total_flos': 1.37738059776e+16, 'train_loss': 6.8357990234375, 'epoch': 0.06661515094993205})"
      ]
     },
     "execution_count": 13,
     "metadata": {},
     "output_type": "execute_result"
    }
   ],
   "source": [
    "trainer.train()"
   ]
  },
  {
   "cell_type": "code",
   "execution_count": 14,
   "metadata": {},
   "outputs": [
    {
     "name": "stdout",
     "output_type": "stream",
     "text": [
      "Counter: CachedCompile\n",
      "  Value: 2668\n",
      "Metric: CompileTime\n",
      "  TotalSamples: 88\n",
      "  Accumulator: 05m45s242ms492.497us\n",
      "  ValueRate: 112ms815.668us / second\n",
      "  Rate: 0.0344962 / second\n",
      "  Percentiles: 1%=028ms879.307us; 5%=031ms263.066us; 10%=031ms456.126us; 20%=032ms031.136us; 50%=033ms408.706us; 80%=035ms237.815us; 90%=038ms359.085us; 95%=10s142ms329.682us; 99%=02m35s284ms655.907us\n",
      "Metric: ExecuteReplicatedTime\n",
      "  TotalSamples: 2756\n",
      "  Accumulator: 03m54s205ms461.657us\n",
      "  ValueRate: 067ms553.151us / second\n",
      "  Rate: 1.2048 / second\n",
      "  Percentiles: 1%=002ms176.630us; 5%=003ms665.040us; 10%=016ms926.918us; 20%=020ms151.147us; 50%=068ms543.992us; 80%=068ms898.421us; 90%=068ms116.450us; 95%=068ms298.821us; 99%=069ms369.122us\n",
      "Metric: TransferToDeviceTime\n",
      "  TotalSamples: 13123\n",
      "  Accumulator: 01s015ms904.557us\n",
      "  ValueRate: 473.883us / second\n",
      "  Rate: 6.09047 / second\n",
      "  Percentiles: 1%=040.200us; 5%=043.580us; 10%=045.910us; 20%=049.740us; 50%=066.140us; 80%=102.590us; 90%=146.380us; 95%=153.540us; 99%=162.030us\n",
      "Metric: TransferFromDeviceTime\n",
      "  TotalSamples: 42\n",
      "  Accumulator: 182ms885.148us\n",
      "  ValueRate: 091.175us / second\n",
      "  Rate: 0.0210537 / second\n",
      "  Percentiles: 1%=166.760us; 5%=223.720us; 10%=247.720us; 20%=269.151us; 50%=399.320us; 80%=794.370us; 90%=004ms627.570us; 95%=041ms836.154us; 99%=042ms039.125us\n",
      "Counter: MarkStep\n",
      "  Value: 5260\n",
      "Counter: aten::_local_scalar_dense\n",
      "  Value: 26\n",
      "\n"
     ]
    }
   ],
   "source": [
    "import torch_xla.debug.metrics as met\n",
    "print(met.short_metrics_report())\n",
    "met.clear_all()"
   ]
  },
  {
   "cell_type": "markdown",
   "metadata": {},
   "source": [
    "## Train again, this time using scan"
   ]
  },
  {
   "cell_type": "code",
   "execution_count": 15,
   "metadata": {},
   "outputs": [],
   "source": [
    "from transformers import LlamaConfig, LlamaForCausalLM\n",
    "\n",
    "# Define model configuration\n",
    "config = LlamaConfig(\n",
    "    vocab_size=tokenizer.vocab_size,\n",
    "    hidden_size=512,  # Model size\n",
    "    num_hidden_layers=32,  # Number of transformer layers\n",
    "    num_attention_heads=8,  # Number of attention heads\n",
    "    intermediate_size=1024,  # Size of the hidden feedforward layer\n",
    "    max_position_embeddings=128,  # Max tokens in a sequence\n",
    "    use_cache=False,\n",
    "    unroll_decoders=False,\n",
    ")\n",
    "\n",
    "# Instantiate the model\n",
    "model = LlamaForCausalLM(config)"
   ]
  },
  {
   "cell_type": "code",
   "execution_count": 16,
   "metadata": {},
   "outputs": [
    {
     "name": "stderr",
     "output_type": "stream",
     "text": [
      "max_steps is given, it will override any value given in num_train_epochs\n"
     ]
    },
    {
     "name": "stdout",
     "output_type": "stream",
     "text": [
      "NOTE: Using apply_layers to speed up compilation\n"
     ]
    },
    {
     "data": {
      "text/html": [
       "\n",
       "    <div>\n",
       "      \n",
       "      <progress value='2500' max='2500' style='width:300px; height:20px; vertical-align: middle;'></progress>\n",
       "      [2500/2500 48:09, Epoch 0/1]\n",
       "    </div>\n",
       "    <table border=\"1\" class=\"dataframe\">\n",
       "  <thead>\n",
       " <tr style=\"text-align: left;\">\n",
       "      <th>Epoch</th>\n",
       "      <th>Training Loss</th>\n",
       "      <th>Validation Loss</th>\n",
       "    </tr>\n",
       "  </thead>\n",
       "  <tbody>\n",
       "    <tr>\n",
       "      <td>0</td>\n",
       "      <td>6.260000</td>\n",
       "      <td>6.143163</td>\n",
       "    </tr>\n",
       "  </tbody>\n",
       "</table><p>"
      ],
      "text/plain": [
       "<IPython.core.display.HTML object>"
      ]
     },
     "metadata": {},
     "output_type": "display_data"
    },
    {
     "data": {
      "text/plain": [
       "TrainOutput(global_step=2500, training_loss=6.8406908203125, metrics={'train_runtime': 2892.4518, 'train_samples_per_second': 41.487, 'train_steps_per_second': 0.864, 'total_flos': 1.37738059776e+16, 'train_loss': 6.8406908203125, 'epoch': 0.06661515094993205})"
      ]
     },
     "execution_count": 16,
     "metadata": {},
     "output_type": "execute_result"
    }
   ],
   "source": [
    "from transformers import Trainer\n",
    "\n",
    "trainer = Trainer(\n",
    "    model=model,\n",
    "    args=training_args,\n",
    "    train_dataset=lm_datasets[\"train\"].shuffle(seed=42),  # type:ignore\n",
    "    eval_dataset=lm_datasets[\"validation\"].shuffle(seed=42),  # type:ignore\n",
    "    tokenizer=tokenizer,\n",
    ")\n",
    "\n",
    "trainer.train()"
   ]
  },
  {
   "cell_type": "code",
   "execution_count": 17,
   "metadata": {},
   "outputs": [
    {
     "name": "stdout",
     "output_type": "stream",
     "text": [
      "Counter: CachedCompile\n",
      "  Value: 2749\n",
      "Metric: CompileTime\n",
      "  TotalSamples: 7\n",
      "  Accumulator: 03m05s196ms971.333us\n",
      "  ValueRate: 065ms779.664us / second\n",
      "  Rate: 0.00244853 / second\n",
      "  Percentiles: 1%=06s777ms973.436us; 5%=06s777ms973.436us; 10%=06s777ms973.436us; 20%=07s744ms350.902us; 50%=35s123ms851.761us; 80%=36s685ms352.966us; 90%=36s955ms241.673us; 95%=36s955ms241.673us; 99%=36s955ms241.673us\n",
      "Metric: ExecuteReplicatedTime\n",
      "  TotalSamples: 2756\n",
      "  Accumulator: 05m32s609ms674.346us\n",
      "  ValueRate: 094ms342.546us / second\n",
      "  Rate: 1.09878 / second\n",
      "  Percentiles: 1%=015ms914.408us; 5%=015ms340.588us; 10%=018ms227.378us; 20%=022ms900.657us; 50%=106ms211.167us; 80%=107ms736.647us; 90%=107ms043.007us; 95%=107ms294.227us; 99%=110ms656.957us\n",
      "Metric: TransferToDeviceTime\n",
      "  TotalSamples: 79060\n",
      "  Accumulator: 07s496ms172.422us\n",
      "  ValueRate: 010ms147.754us / second\n",
      "  Rate: 113.826 / second\n",
      "  Percentiles: 1%=044.970us; 5%=050.630us; 10%=058.370us; 20%=073.030us; 50%=083.550us; 80%=098.291us; 90%=141.440us; 95%=147.510us; 99%=158.180us\n",
      "Metric: TransferFromDeviceTime\n",
      "  TotalSamples: 10200\n",
      "  Accumulator: 01m18s143ms159.516us\n",
      "  ValueRate: 027ms912.745us / second\n",
      "  Rate: 3.54136 / second\n",
      "  Percentiles: 1%=004ms580.359us; 5%=004ms210.680us; 10%=004ms423.570us; 20%=005ms641.029us; 50%=006ms372.999us; 80%=008ms333.519us; 90%=009ms420.339us; 95%=022ms968.778us; 99%=023ms173.586us\n",
      "Counter: MarkStep\n",
      "  Value: 5260\n",
      "Counter: aten::_local_scalar_dense\n",
      "  Value: 26\n",
      "\n"
     ]
    }
   ],
   "source": [
    "import torch_xla.debug.metrics as met\n",
    "print(met.short_metrics_report())\n",
    "met.clear_all()"
   ]
  },
  {
   "cell_type": "markdown",
   "metadata": {},
   "source": [
    "## Verify the numerical correctness of `apply_layers`\n",
    "\n",
    "Under the same weights, and the same input tokens, both the for loop based\n",
    "implementation and `apply_layers` based implementation should produce the same\n",
    "output tokens."
   ]
  },
  {
   "cell_type": "code",
   "execution_count": 18,
   "metadata": {},
   "outputs": [],
   "source": [
    "import torch_xla\n",
    "input_ids = torch.tensor(tokenized_datasets[\"train\"][3][\"input_ids\"]).unsqueeze(0).type(torch.LongTensor) # type:ignore\n",
    "attention_mask = torch.tensor(tokenized_datasets[\"train\"][3][\"attention_mask\"]).unsqueeze(0) # type:ignore\n",
    "input_ids = input_ids.to(torch_xla.device())\n",
    "attention_mask = attention_mask.to(torch_xla.device())\n",
    "torch_xla.sync()"
   ]
  },
  {
   "cell_type": "code",
   "execution_count": 19,
   "metadata": {},
   "outputs": [
    {
     "data": {
      "text/plain": [
       "tensor([[128000,   5476,     73,  56761,    912,  86262,     88,   4298,    220,\n",
       "             18,    551,    366,   3200,     29,  66416,    320,  11002,    551,\n",
       "          50534,     99,  75267,  16144, 115687,  33710, 123283, 104612,     18,\n",
       "           1174,  13318,    662,  86262,     88,   4298,    315,    279,  71735,\n",
       "            220,     18,    883,   1174,  17037,  14183,    311,    439,  86262,\n",
       "             88,   4298,  66416,  14767,   4994,   6457,   1174,    374,    264,\n",
       "          39747,   3560,    571,     12,     31,   5737,   2835,   1847,   8040,\n",
       "            555,  80949,    323,   7972,   5168,   1854,    369,    279,  32365,\n",
       "          42585,    662,  45894,    304,   6186,    220,    679,     16,    304,\n",
       "           6457,   1174,    433,    374,    279,   4948,   1847,    304,    279,\n",
       "          86262,     88,   4298,   4101,    662,  21445,    287,    279,   1890,\n",
       "          37608,    315,  39747,    323,   1972,    571,     12,     31,    892,\n",
       "          27120,    439,   1202,  62540,   1174,    279,   3446,   8640,  15638,\n",
       "            311,    279,   1176,   1847,    323,  11263,    279,    330,   4076,\n",
       "           1752,    330]], device='xla:0')"
      ]
     },
     "execution_count": 19,
     "metadata": {},
     "output_type": "execute_result"
    }
   ],
   "source": [
    "input_ids"
   ]
  },
  {
   "cell_type": "code",
   "execution_count": 20,
   "metadata": {},
   "outputs": [
    {
     "name": "stderr",
     "output_type": "stream",
     "text": [
      "Starting from v4.46, the `logits` model output will have the same type as the model (except at train time, where it will always be FP32)\n"
     ]
    },
    {
     "name": "stdout",
     "output_type": "stream",
     "text": [
      "NOTE: Using apply_layers to speed up compilation\n"
     ]
    },
    {
     "data": {
      "text/plain": [
       "(torch.Size([1, 128, 128000]),\n",
       " tensor([[[-3.5842, -3.6861, -3.5516,  ..., -3.0494, -4.4317, -4.5019],\n",
       "          [-4.8827, -4.5860, -4.4935,  ..., -4.1767, -4.9484, -4.4475],\n",
       "          [-4.7807, -4.6876, -4.4286,  ..., -4.4788, -4.8637, -4.3323],\n",
       "          ...,\n",
       "          [-4.8265, -4.3731, -4.5441,  ..., -4.9554, -5.2088, -4.9145],\n",
       "          [-4.5418, -4.1405, -4.4080,  ..., -4.7163, -5.1185, -4.9804],\n",
       "          [-4.8695, -5.3834, -4.9970,  ..., -4.9628, -5.9179, -5.2406]]],\n",
       "        device='xla:0', grad_fn=<UnsafeViewBackward0>))"
      ]
     },
     "execution_count": 20,
     "metadata": {},
     "output_type": "execute_result"
    }
   ],
   "source": [
    "model.model.unroll_decoders = False\n",
    "model.model.logged_messages = set()\n",
    "logits = model.forward(input_ids, attention_mask).logits  # type:ignore\n",
    "logits.shape, logits"
   ]
  },
  {
   "cell_type": "code",
   "execution_count": 21,
   "metadata": {},
   "outputs": [],
   "source": [
    "def pick_token(logits):\n",
    "  return torch.argmax(logits, dim=-1)"
   ]
  },
  {
   "cell_type": "code",
   "execution_count": 22,
   "metadata": {},
   "outputs": [
    {
     "data": {
      "text/plain": [
       "tensor([[ 284,   13,   13, 1174,   13,  574,  574, 1174,   16, 1389,  220, 3200,\n",
       "           29,  720,  720,  220,  366,  220,  883,  883,  883,  883,  883,  883,\n",
       "          883,  883,  883,  220, 1174,  720, 1174, 1174, 1174,  279,  220,  315,\n",
       "         1049, 1389,  720,  323,  220,  311,  279,  264,  662, 1174,  662,  662,\n",
       "          662,  279,  662,  323,  264,  220,  571,  315,   12,   31,  220,  571,\n",
       "          662,  662,  311,  279,  662,  279,  662,  662,  662,  279,  220,  220,\n",
       "          662,  720, 1174,  279,  220, 1049,   15, 1174,  279, 1174,  279,  574,\n",
       "          264,  220,  571, 1174,  279,  220,  315,  662,  662,  662,  720,  374,\n",
       "          279, 1176,  220, 1174,  279,  571,  279, 1174,   12,   31,  220, 1174,\n",
       "         1174,  264, 1176,  662,  323,  220,  315, 1174,  311,  279,  220,  571,\n",
       "          662,  279,  279, 1176,  578,  330,  330,  662]], device='xla:0')"
      ]
     },
     "execution_count": 22,
     "metadata": {},
     "output_type": "execute_result"
    }
   ],
   "source": [
    "tokens = pick_token(logits)\n",
    "tokens"
   ]
  },
  {
   "cell_type": "code",
   "execution_count": 23,
   "metadata": {},
   "outputs": [
    {
     "data": {
      "text/plain": [
       "' =..,. was was,1 – unk> \\n \\n  <  ) ) ) ) ) ) ) ) ) , \\n,,, the  of200 – \\n and  to the a.,... the. and a  @ of-@  @.. to the. the... the  . \\n, the 2000, the, the was a  @, the  of... \\n is the first , the @ the,-@ ,, a first. and  of, to the  @. the the first The \" \".'"
      ]
     },
     "execution_count": 23,
     "metadata": {},
     "output_type": "execute_result"
    }
   ],
   "source": [
    "tokenizer.decode(tokens[0].detach().cpu().numpy().tolist())"
   ]
  },
  {
   "cell_type": "code",
   "execution_count": 24,
   "metadata": {},
   "outputs": [
    {
     "name": "stdout",
     "output_type": "stream",
     "text": [
      "NOTE: Using for loop to run decoder layers\n"
     ]
    },
    {
     "data": {
      "text/plain": [
       "(torch.Size([1, 128, 128000]),\n",
       " tensor([[[-3.5840, -3.6860, -3.5528,  ..., -3.0511, -4.4328, -4.5008],\n",
       "          [-4.8854, -4.5886, -4.4982,  ..., -4.1781, -4.9502, -4.4503],\n",
       "          [-4.7799, -4.6868, -4.4279,  ..., -4.4778, -4.8628, -4.3292],\n",
       "          ...,\n",
       "          [-4.8243, -4.3744, -4.5454,  ..., -4.9558, -5.2097, -4.9143],\n",
       "          [-4.5432, -4.1429, -4.4069,  ..., -4.7164, -5.1198, -4.9812],\n",
       "          [-4.8692, -5.3832, -4.9956,  ..., -4.9625, -5.9176, -5.2399]]],\n",
       "        device='xla:0', grad_fn=<UnsafeViewBackward0>))"
      ]
     },
     "execution_count": 24,
     "metadata": {},
     "output_type": "execute_result"
    }
   ],
   "source": [
    "model.model.unroll_decoders = True\n",
    "model.model.logged_messages = set()\n",
    "for_loop_logits = model.forward(input_ids, attention_mask).logits  # type:ignore\n",
    "for_loop_logits.shape, for_loop_logits"
   ]
  },
  {
   "cell_type": "code",
   "execution_count": 25,
   "metadata": {},
   "outputs": [
    {
     "data": {
      "text/plain": [
       "tensor([[ 284,   13,   13, 1174,   13,  574,  574, 1174,   16, 1389,  220, 3200,\n",
       "           29,  720,  720,  220,  366,  220,  883,  883,  883,  883,  883,  883,\n",
       "          883,  883,  883,  220, 1174,  720, 1174, 1174, 1174,  279,  220,  315,\n",
       "         1049, 1389,  720,  323,  220,  311,  279,  264,  662, 1174,  662,  662,\n",
       "          662,  279,  662,  323,  264,  220,  571,  315,   12,   31,  220,  571,\n",
       "          662,  662,  311,  279,  662,  279,  662,  662,  662,  279,  220,  220,\n",
       "          662,  720, 1174,  279,  220, 1049,   15, 1174,  279, 1174,  279,  574,\n",
       "          264, 1176,  571, 1174,  279,  220,  315,  662,  662,  662,  720,  374,\n",
       "          279, 1176,  220, 1174,  279,  571,  279, 1174,   12,   31,  220, 1174,\n",
       "         1174,  264, 1176,  662,  323,  220,  315, 1174,  311,  279,  220,  571,\n",
       "          662,  279,  279, 1176,  578,  330,  330,  662]], device='xla:0')"
      ]
     },
     "execution_count": 25,
     "metadata": {},
     "output_type": "execute_result"
    }
   ],
   "source": [
    "for_loop_tokens = pick_token(for_loop_logits)\n",
    "for_loop_tokens"
   ]
  },
  {
   "cell_type": "code",
   "execution_count": 26,
   "metadata": {},
   "outputs": [
    {
     "data": {
      "text/plain": [
       "' =..,. was was,1 – unk> \\n \\n  <  ) ) ) ) ) ) ) ) ) , \\n,,, the  of200 – \\n and  to the a.,... the. and a  @ of-@  @.. to the. the... the  . \\n, the 2000, the, the was a first @, the  of... \\n is the first , the @ the,-@ ,, a first. and  of, to the  @. the the first The \" \".'"
      ]
     },
     "execution_count": 26,
     "metadata": {},
     "output_type": "execute_result"
    }
   ],
   "source": [
    "tokenizer.decode(for_loop_tokens[0].detach().cpu().numpy().tolist())"
   ]
  },
  {
   "cell_type": "code",
   "execution_count": 27,
   "metadata": {},
   "outputs": [
    {
     "data": {
      "text/plain": [
       "True"
      ]
     },
     "execution_count": 27,
     "metadata": {},
     "output_type": "execute_result"
    }
   ],
   "source": [
    "# Should be accurate to within 1%\n",
    "torch.allclose(logits, for_loop_logits, atol=1e-2, rtol=1e-2)"
   ]
  }
 ],
 "metadata": {
  "kernelspec": {
   "display_name": "Python 3",
   "language": "python",
   "name": "python3"
  },
  "language_info": {
   "codemirror_mode": {
    "name": "ipython",
    "version": 3
   },
   "file_extension": ".py",
   "mimetype": "text/x-python",
   "name": "python",
   "nbconvert_exporter": "python",
   "pygments_lexer": "ipython3",
   "version": "3.10.14"
  }
 },
 "nbformat": 4,
 "nbformat_minor": 2
}
