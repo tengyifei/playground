{
 "cells": [
  {
   "cell_type": "code",
   "execution_count": 1,
   "metadata": {},
   "outputs": [
    {
     "name": "stdout",
     "output_type": "stream",
     "text": [
      "IR {\n",
      "  %0 = s64[] prim::Constant(), xla_shape=s64[]\n",
      "  %1 = s64[] xla::device_data(), xla_shape=s64[]\n",
      "  %2 = s64[] xla::device_data(), xla_shape=s64[]\n",
      "  %3 = s64[] aten::add(%2, %1, %0), xla_shape=s64[], ROOT=0\n",
      "}\n",
      "\n",
      "IR {\n",
      "  %0 = s64[] xla::device_data(), xla_shape=s64[]\n",
      "  %1 = s64[] prim::Constant(), xla_shape=s64[]\n",
      "  %2 = s64[] xla::device_data(), xla_shape=s64[]\n",
      "  %3 = s64[] aten::add(%2, %0, %1), xla_shape=s64[]\n",
      "  %4 = s64[] aten::mul(%3, %0), xla_shape=s64[], ROOT=0\n",
      "}\n",
      "\n"
     ]
    }
   ],
   "source": [
    "import torch\n",
    "import torch_xla\n",
    "import torch_xla.runtime as xr\n",
    "import torch_xla.core.xla_model as xm\n",
    "import torch_xla.debug.metrics as met\n",
    "\n",
    "device = xm.xla_device()\n",
    "t1 = torch.tensor(500, device=device)\n",
    "t2 = torch.tensor(600, device=device)\n",
    "t3 = t1 + t2\n",
    "t4 = t3 * t2\n",
    "\n",
    "# Print IR of t3. It's a bunch of aten ops.\n",
    "print(torch_xla._XLAC._get_xla_tensors_text([t3]))\n",
    "# Print IR of t4. It's a bunch of aten ops.\n",
    "print(torch_xla._XLAC._get_xla_tensors_text([t4]))"
   ]
  },
  {
   "cell_type": "code",
   "execution_count": 2,
   "metadata": {},
   "outputs": [
    {
     "name": "stdout",
     "output_type": "stream",
     "text": [
      "\n",
      "tensor(1100, device='xla:0')\n",
      "Counter: ExecuteComputation\n",
      "  Value: 1\n",
      "\n",
      "IR {\n",
      "  %0 = s64[] xla::device_data(), xla_shape=s64[], ROOT=0\n",
      "}\n",
      "\n",
      "tensor(1100, device='xla:0')\n",
      "tensor(1100, device='xla:0')\n",
      "tensor(1100, device='xla:0')\n",
      "tensor(1100, device='xla:0')\n",
      "tensor(1100, device='xla:0')\n",
      "tensor(1100, device='xla:0')\n",
      "tensor(1100, device='xla:0')\n",
      "tensor(1100, device='xla:0')\n",
      "tensor(1100, device='xla:0')\n",
      "tensor(1100, device='xla:0')\n",
      "Counter: ExecuteComputation\n",
      "  Value: 1\n",
      "\n"
     ]
    }
   ],
   "source": [
    "# Print execution count (0)\n",
    "print(met.short_metrics_report([\"ExecuteComputation\"], [\"ExecuteComputation\"]))\n",
    "\n",
    "# Synchronously evaluate t3.\n",
    "print(t3)\n",
    "\n",
    "# Print execution count (1)\n",
    "print(met.short_metrics_report([\"ExecuteComputation\"], [\"ExecuteComputation\"]))\n",
    "\n",
    "# Print IR of t3. It now gives a single `xla::device_data()`\n",
    "print(torch_xla._XLAC._get_xla_tensors_text([t3]))\n",
    "\n",
    "# Evaluate t3 again. It shouldn't recompute.\n",
    "for _ in range(10):\n",
    "    print(t3)\n",
    "\n",
    "# Print execution count (1)\n",
    "print(met.short_metrics_report([\"ExecuteComputation\"], [\"ExecuteComputation\"]))"
   ]
  },
  {
   "cell_type": "code",
   "execution_count": 3,
   "metadata": {},
   "outputs": [
    {
     "name": "stdout",
     "output_type": "stream",
     "text": [
      "IR {\n",
      "  %0 = s64[] xla::device_data(), xla_shape=s64[]\n",
      "  %1 = s64[] prim::Constant(), xla_shape=s64[]\n",
      "  %2 = s64[] xla::device_data(), xla_shape=s64[]\n",
      "  %3 = s64[] aten::add(%2, %0, %1), xla_shape=s64[]\n",
      "  %4 = s64[] aten::mul(%3, %0), xla_shape=s64[], ROOT=0\n",
      "}\n",
      "\n"
     ]
    }
   ],
   "source": [
    "# Print IR of t4. It is still a bunch of aten ops, unchanged.\n",
    "print(torch_xla._XLAC._get_xla_tensors_text([t4]))\n"
   ]
  },
  {
   "cell_type": "code",
   "execution_count": 4,
   "metadata": {},
   "outputs": [
    {
     "name": "stdout",
     "output_type": "stream",
     "text": [
      "Metric: DeviceLockWait\n",
      "  TotalSamples: 2\n",
      "  Accumulator: 042.891us\n",
      "  ValueRate: 03s681ms687.500us / second\n",
      "  Rate: 125000 / second\n",
      "  Percentiles: 1%=008.231us; 5%=008.231us; 10%=008.231us; 20%=008.231us; 50%=034.660us; 80%=034.660us; 90%=034.660us; 95%=034.660us; 99%=034.660us\n",
      "Metric: LazyTracing\n",
      "  TotalSamples: 21\n",
      "  Accumulator: 107ms121.189us\n",
      "  ValueRate: 854ms274.856us / second\n",
      "  Rate: 167.472 / second\n",
      "  Percentiles: 1%=021.440us; 5%=033.420us; 10%=149.160us; 20%=445.780us; 50%=593.730us; 80%=948.209us; 90%=003ms769.310us; 95%=004ms861.050us; 99%=091ms950.293us\n",
      "Metric: TensorToData\n",
      "  TotalSamples: 2\n",
      "  Accumulator: 480.390us\n",
      "  ValueRate: 558ms705.234us / second\n",
      "  Rate: 2321.89 / second\n",
      "  Percentiles: 1%=165.140us; 5%=165.140us; 10%=165.140us; 20%=165.140us; 50%=315.250us; 80%=315.250us; 90%=315.250us; 95%=315.250us; 99%=315.250us\n",
      "Metric: TensorsGraphSize\n",
      "  TotalSamples: 1\n",
      "  Accumulator: 4.00\n",
      "  Percentiles: 1%=4.00; 5%=4.00; 10%=4.00; 20%=4.00; 50%=4.00; 80%=4.00; 90%=4.00; 95%=4.00; 99%=4.00\n",
      "Metric: UnwrapXlaData\n",
      "  TotalSamples: 12\n",
      "  Accumulator: 079.831us\n",
      "  ValueRate: 004ms155.276us / second\n",
      "  Rate: 624.611 / second\n",
      "  Percentiles: 1%=004.070us; 5%=004.070us; 10%=004.130us; 20%=004.180us; 50%=004.320us; 80%=006.031us; 90%=015.040us; 95%=020.240us; 99%=020.240us\n",
      "Metric: WrapXlaData\n",
      "  TotalSamples: 1\n",
      "  Accumulator: 006.670us\n",
      "  Percentiles: 1%=006.670us; 5%=006.670us; 10%=006.670us; 20%=006.670us; 50%=006.670us; 80%=006.670us; 90%=006.670us; 95%=006.670us; 99%=006.670us\n",
      "Counter: CreateXlaTensor\n",
      "  Value: 4\n",
      "Counter: DeviceDataCacheMiss\n",
      "  Value: 2\n",
      "Counter: ExecuteComputation\n",
      "  Value: 1\n",
      "Counter: RegisterXLAFunctions\n",
      "  Value: 1\n",
      "Counter: UncachedCompile\n",
      "  Value: 1\n",
      "Counter: xla::_copy_from\n",
      "  Value: 2\n",
      "Counter: xla::_to_copy\n",
      "  Value: 13\n",
      "Counter: xla::add\n",
      "  Value: 1\n",
      "Counter: xla::empty_symint\n",
      "  Value: 2\n",
      "Counter: xla::lift_fresh\n",
      "  Value: 2\n",
      "Counter: xla::mul\n",
      "  Value: 1\n",
      "Metric: CompileTime\n",
      "  TotalSamples: 1\n",
      "  Accumulator: 052ms482.645us\n",
      "  Percentiles: 1%=052ms482.645us; 5%=052ms482.645us; 10%=052ms482.645us; 20%=052ms482.645us; 50%=052ms482.645us; 80%=052ms482.645us; 90%=052ms482.645us; 95%=052ms482.645us; 99%=052ms482.645us\n",
      "Metric: ExecuteTime\n",
      "  TotalSamples: 1\n",
      "  Accumulator: 002ms792.140us\n",
      "  Percentiles: 1%=002ms792.140us; 5%=002ms792.140us; 10%=002ms792.140us; 20%=002ms792.140us; 50%=002ms792.140us; 80%=002ms792.140us; 90%=002ms792.140us; 95%=002ms792.140us; 99%=002ms792.140us\n",
      "Metric: InboundData\n",
      "  TotalSamples: 11\n",
      "  Accumulator: 88.00B\n",
      "  ValueRate: 7.60KB / second\n",
      "  Rate: 973.073 / second\n",
      "  Percentiles: 1%=8.00B; 5%=8.00B; 10%=8.00B; 20%=8.00B; 50%=8.00B; 80%=8.00B; 90%=8.00B; 95%=8.00B; 99%=8.00B\n",
      "Metric: OutboundData\n",
      "  TotalSamples: 2\n",
      "  Accumulator: 16.00B\n",
      "  ValueRate: 17.80KB / second\n",
      "  Rate: 2278.22 / second\n",
      "  Percentiles: 1%=8.00B; 5%=8.00B; 10%=8.00B; 20%=8.00B; 50%=8.00B; 80%=8.00B; 90%=8.00B; 95%=8.00B; 99%=8.00B\n",
      "Metric: TransferFromDeviceTime\n",
      "  TotalSamples: 11\n",
      "  Accumulator: 011ms651.899us\n",
      "  ValueRate: 942ms322.537us / second\n",
      "  Rate: 973.117 / second\n",
      "  Percentiles: 1%=268.180us; 5%=268.180us; 10%=289.480us; 20%=332.170us; 50%=368.769us; 80%=416.811us; 90%=581.889us; 95%=007ms906.900us; 99%=007ms906.900us\n",
      "Metric: TransferToDeviceTime\n",
      "  TotalSamples: 2\n",
      "  Accumulator: 304.231us\n",
      "  ValueRate: 348ms947.070us / second\n",
      "  Rate: 2287.39 / second\n",
      "  Percentiles: 1%=093.911us; 5%=093.911us; 10%=093.911us; 20%=093.911us; 50%=210.320us; 80%=210.320us; 90%=210.320us; 95%=210.320us; 99%=210.320us\n",
      "Counter: CreateCompileHandles\n",
      "  Value: 1\n",
      "Counter: CreateDataHandles\n",
      "  Value: 3\n",
      "\n"
     ]
    }
   ],
   "source": [
    "import torch_xla.debug.metrics as met\n",
    "report = met.metrics_report()\n",
    "print(report)"
   ]
  },
  {
   "cell_type": "code",
   "execution_count": 7,
   "metadata": {},
   "outputs": [
    {
     "data": {
      "text/plain": [
       "1"
      ]
     },
     "execution_count": 7,
     "metadata": {},
     "output_type": "execute_result"
    }
   ],
   "source": [
    "torch_xla._XLAC._xla_counter_names()\n",
    "torch_xla._XLAC._xla_counter_value(\"ExecuteComputation\")"
   ]
  },
  {
   "cell_type": "code",
   "execution_count": null,
   "metadata": {},
   "outputs": [],
   "source": []
  }
 ],
 "metadata": {
  "kernelspec": {
   "display_name": "Python 3",
   "language": "python",
   "name": "python3"
  },
  "language_info": {
   "codemirror_mode": {
    "name": "ipython",
    "version": 3
   },
   "file_extension": ".py",
   "mimetype": "text/x-python",
   "name": "python",
   "nbconvert_exporter": "python",
   "pygments_lexer": "ipython3",
   "version": "3.10.14"
  }
 },
 "nbformat": 4,
 "nbformat_minor": 2
}
