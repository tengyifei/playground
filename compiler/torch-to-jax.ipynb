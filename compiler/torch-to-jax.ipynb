{
 "cells": [
  {
   "cell_type": "markdown",
   "id": "cd5168f1",
   "metadata": {},
   "source": [
    "# Experimenting converting PyTorch code to Jax code"
   ]
  },
  {
   "cell_type": "markdown",
   "id": "4a0b9137",
   "metadata": {},
   "source": [
    "Approach 1: let's print the jaxpr back into Python"
   ]
  },
  {
   "cell_type": "code",
   "execution_count": 1,
   "id": "74f53ab3",
   "metadata": {},
   "outputs": [
    {
     "name": "stdout",
     "output_type": "stream",
     "text": [
      "Requirement already satisfied: pip in /usr/local/lib/python3.10/site-packages (25.1.1)\n",
      "\u001b[33mWARNING: Running pip as the 'root' user can result in broken permissions and conflicting behaviour with the system package manager, possibly rendering your system unusable. It is recommended to use a virtual environment instead: https://pip.pypa.io/warnings/venv. Use the --root-user-action option if you know what you are doing and want to suppress this warning.\u001b[0m\u001b[33m\n",
      "\u001b[0mNote: you may need to restart the kernel to use updated packages.\n",
      "Requirement already satisfied: JaxDecompiler in /usr/local/lib/python3.10/site-packages (0.0.7)\n",
      "\u001b[33mWARNING: Running pip as the 'root' user can result in broken permissions and conflicting behaviour with the system package manager, possibly rendering your system unusable. It is recommended to use a virtual environment instead: https://pip.pypa.io/warnings/venv. Use the --root-user-action option if you know what you are doing and want to suppress this warning.\u001b[0m\u001b[33m\n",
      "\u001b[0mNote: you may need to restart the kernel to use updated packages.\n"
     ]
    }
   ],
   "source": [
    "%pip install --upgrade pip\n",
    "%pip install --upgrade JaxDecompiler"
   ]
  },
  {
   "cell_type": "code",
   "execution_count": 2,
   "id": "79cdd97c",
   "metadata": {},
   "outputs": [],
   "source": [
    "import jax\n",
    "import torch\n",
    "import torchax\n",
    "import jax.extend.core as core\n",
    "from JaxDecompiler import decompiler\n",
    "from torchax.interop import jax_view\n",
    "\n",
    "torchax.enable_globally()"
   ]
  },
  {
   "cell_type": "code",
   "execution_count": 3,
   "id": "c9c6df7e",
   "metadata": {},
   "outputs": [],
   "source": [
    "# Example torch function\n",
    "def my_mathy_thing(weight, hidden):\n",
    "  activation = torch.matmul(weight, hidden)\n",
    "  output = torch.sin(activation)\n",
    "  return output + hidden"
   ]
  },
  {
   "cell_type": "code",
   "execution_count": 4,
   "id": "63a02ea8",
   "metadata": {},
   "outputs": [],
   "source": [
    "class NameIterator:\n",
    "  \"\"\"\n",
    "  An iterator that yields strings in lexicographical order:\n",
    "  'a', 'b', ..., 'z', 'aa', 'ab', ..., 'az', 'ba', ...\n",
    "\n",
    "  The sequence starts with single letters, then moves to longer\n",
    "  combinations, following the pattern similar to spreadsheet columns.\n",
    "  \"\"\"\n",
    "\n",
    "  def __init__(self):\n",
    "    self.alphabet = \"abcdefghijklmnopqrstuvwxyz\"\n",
    "    self.current = None\n",
    "\n",
    "  def __iter__(self):\n",
    "    return self\n",
    "\n",
    "  def __next__(self):\n",
    "    if self.current is None:\n",
    "      self.current = \"a\"\n",
    "      return self.current\n",
    "\n",
    "    # Convert the current string to a list of indices\n",
    "    indices = [self.alphabet.index(c) for c in self.current]\n",
    "\n",
    "    # Try to increment the rightmost index\n",
    "    pos = len(indices) - 1\n",
    "    indices[pos] += 1\n",
    "\n",
    "    # Handle carry, like incrementing digits in a number\n",
    "    while pos >= 0 and indices[pos] == 26:\n",
    "      indices[pos] = 0\n",
    "      pos -= 1\n",
    "\n",
    "      if pos < 0:\n",
    "        # We need to add a new position (like going from 'z' to 'aa')\n",
    "        indices = [0] * (len(indices) + 1)\n",
    "        break\n",
    "\n",
    "      indices[pos] += 1\n",
    "\n",
    "    # Convert back to a string\n",
    "    self.current = \"\".join(self.alphabet[i] for i in indices)\n",
    "    return self.current\n",
    "\n",
    "\n",
    "def decompile_jaxpr(jaxpr: core.ClosedJaxpr) -> str:\n",
    "  names = NameIterator()\n",
    "\n",
    "  class NamedVar(core.Var):\n",
    "    def __init__(self, suffix, aval):\n",
    "      self.name = next(names)\n",
    "      super().__init__(suffix, aval)\n",
    "\n",
    "    def __str__(self):\n",
    "      return self.name\n",
    "\n",
    "    def __repr__(self):\n",
    "      if self.suffix:\n",
    "        return f\"var_id_{id(self)}_{self.suffix}\"\n",
    "      return f\"var_id_{id(self)}\"\n",
    "\n",
    "  def name(vars):\n",
    "    for i in range(len(vars)):\n",
    "      v = vars[i]\n",
    "      if not isinstance(v, NamedVar) and isinstance(v, core.Var):\n",
    "        vars[i] = NamedVar(v.suffix, v.aval)\n",
    "\n",
    "  # Create an in-memory file object\n",
    "  import io\n",
    "\n",
    "  f = io.StringIO()\n",
    "  # Name all the variables\n",
    "  name(jaxpr.jaxpr.invars)\n",
    "  for eqn in jaxpr.eqns:\n",
    "      name(eqn.invars)\n",
    "      name(eqn.outvars)\n",
    "  name(jaxpr.jaxpr.outvars)\n",
    "  python_lines = decompiler.decompiler(jaxpr)\n",
    "  decompiler._recursively_write_python_program(f, python_lines)\n",
    "  f.seek(0)\n",
    "  s = f.read()\n",
    "  f.close()\n",
    "  return s"
   ]
  },
  {
   "cell_type": "code",
   "execution_count": 5,
   "id": "fd1ff555",
   "metadata": {},
   "outputs": [
    {
     "name": "stdout",
     "output_type": "stream",
     "text": [
      "import jax\n",
      "from jax.numpy import *\n",
      "from jax.experimental import sparse\n",
      "from jax._src import prng\n",
      "from mpi4py import MPI\n",
      "def f(a, b):\n",
      "    e = tensordot(c, d,axes=((1,), (0,)))\n",
      "    g = sin(f)\n",
      "    i = h * 1.0\n",
      "    l = j + k\n",
      "    return m\n",
      "\n"
     ]
    }
   ],
   "source": [
    "my_mathy_thing_jaxpr = jax.make_jaxpr(jax_view(my_mathy_thing))(jax.numpy.ones((4, 4)), jax.numpy.ones((4, 4)))\n",
    "my_mathy_thing_py = decompile_jaxpr(my_mathy_thing_jaxpr)\n",
    "print(my_mathy_thing_py)"
   ]
  },
  {
   "cell_type": "code",
   "execution_count": null,
   "id": "968dc539",
   "metadata": {},
   "outputs": [],
   "source": []
  }
 ],
 "metadata": {
  "kernelspec": {
   "display_name": "Python 3",
   "language": "python",
   "name": "python3"
  },
  "language_info": {
   "codemirror_mode": {
    "name": "ipython",
    "version": 3
   },
   "file_extension": ".py",
   "mimetype": "text/x-python",
   "name": "python",
   "nbconvert_exporter": "python",
   "pygments_lexer": "ipython3",
   "version": "3.10.17"
  }
 },
 "nbformat": 4,
 "nbformat_minor": 5
}
