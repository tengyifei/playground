{
 "cells": [
  {
   "cell_type": "code",
   "execution_count": 3,
   "metadata": {},
   "outputs": [],
   "source": [
    "import dataclasses\n",
    "import collections\n",
    "import numpy as np\n",
    "from typing import Sequence, Any\n",
    "from jax.experimental import mesh_utils\n",
    "import jax\n",
    "\n",
    "def create_custom_64x2_device_mesh(\n",
    "    mesh_shape: Sequence[int],\n",
    "    dcn_mesh_shape: Sequence[int],\n",
    "    devices: Sequence[Any],\n",
    "    process_is_granule: bool = False,\n",
    "    should_sort_granules_by_key: bool = True,\n",
    ") -> np.ndarray:\n",
    "  \"\"\"Custom device mesh for 64x2 ici parallelism\"\"\"\n",
    "  assert len(devices) % 256 == 0, f\"This custom mesh is not valid for {len(devices)} devices\"\n",
    "  attr = \"process_index\" if process_is_granule else \"slice_index\"\n",
    "  if not hasattr(devices[0], attr):\n",
    "    raise ValueError(f\"Device {devices[0]} does not have attribute {attr}. See\" \" `process_is_granule` option.\")\n",
    "  granule_dict = collections.defaultdict(list)\n",
    "  for dev in devices:\n",
    "    granule_dict[getattr(dev, attr)].append(dev)\n",
    "  granules = (\n",
    "      [granule_dict[key] for key in sorted(granule_dict.keys())] if should_sort_granules_by_key else granule_dict.values()\n",
    "  )\n",
    "  if np.prod(dcn_mesh_shape) != len(granules):\n",
    "    raise ValueError(f\"Number of slices {len(granules)} must equal the product of \" f\"dcn_mesh_shape {dcn_mesh_shape}\")\n",
    "  per_granule_meshes = [\n",
    "      mesh_utils.create_device_mesh(\n",
    "          [8, 16],\n",
    "          granule,\n",
    "          allow_split_physical_axes=False,\n",
    "      )\n",
    "      for granule in granules\n",
    "  ]\n",
    "\n",
    "  def reshape_mesh_to_rings(a):\n",
    "    b = []\n",
    "    for i in range(4):\n",
    "      b.append([])\n",
    "      for j in range(8):\n",
    "        a_i = i * 2\n",
    "        a_j = j * 2\n",
    "        # forms a ring of size 4\n",
    "        b[i].append([a[a_i, a_j], a[a_i, a_j + 1], a[a_i + 1, a_j + 1], a[a_i + 1, a_j]])\n",
    "    b = np.array(b)\n",
    "    b = np.reshape(b, (64, 2))\n",
    "    return b\n",
    "\n",
    "  per_granule_meshes = [np.reshape(reshape_mesh_to_rings(x), mesh_shape) for x in per_granule_meshes]\n",
    "  # TODO(jekbradbury): handle non-uniform DCN topologies\n",
    "  granule_mesh = np.arange(len(granules)).reshape(dcn_mesh_shape)\n",
    "  blocks = np.vectorize(lambda i: per_granule_meshes[i], otypes=[object])(granule_mesh)\n",
    "  device_mesh = np.block(blocks.tolist())\n",
    "  return device_mesh\n",
    "\n",
    "\n",
    "@dataclasses.dataclass\n",
    "class Device:\n",
    "  process_index: int\n",
    "  slice_index: int\n",
    "  uid: int\n",
    "  device_kind: str = ''\n",
    "  platform: str = 'cpu'\n",
    "\n",
    "\n",
    "def get_hybrid_mesh(ici_mesh_shape: Sequence[int], dcn_mesh_shape: Sequence[int], num_devices: int, num_slices: int) -> np.ndarray:\n",
    "  num_devices_per_granule = num_devices // num_slices\n",
    "  devices = [Device(i // num_devices_per_granule, i // num_devices_per_granule, i) for i in range(num_devices)]\n",
    "  devices = create_custom_64x2_device_mesh(ici_mesh_shape, dcn_mesh_shape, devices).reshape(-1).tolist()\n",
    "  devices = np.array(jax.tree_map(lambda d: d.uid, devices))\n",
    "  return devices\n"
   ]
  },
  {
   "cell_type": "code",
   "execution_count": 4,
   "metadata": {},
   "outputs": [
    {
     "name": "stderr",
     "output_type": "stream",
     "text": [
      "/tmp/ipykernel_2908055/344964534.py:71: DeprecationWarning: jax.tree_map is deprecated: use jax.tree.map (jax v0.4.25 or newer) or jax.tree_util.tree_map (any JAX version).\n",
      "  devices = np.array(jax.tree_map(lambda d: d.uid, devices))\n"
     ]
    },
    {
     "data": {
      "text/plain": [
       "array([  0,   1,  17,  16,   2,   3,  19,  18,   4,   5,  21,  20,   6,\n",
       "         7,  23,  22,   8,   9,  25,  24,  10,  11,  27,  26,  12,  13,\n",
       "        29,  28,  14,  15,  31,  30,  32,  33,  49,  48,  34,  35,  51,\n",
       "        50,  36,  37,  53,  52,  38,  39,  55,  54,  40,  41,  57,  56,\n",
       "        42,  43,  59,  58,  44,  45,  61,  60,  46,  47,  63,  62,  64,\n",
       "        65,  81,  80,  66,  67,  83,  82,  68,  69,  85,  84,  70,  71,\n",
       "        87,  86,  72,  73,  89,  88,  74,  75,  91,  90,  76,  77,  93,\n",
       "        92,  78,  79,  95,  94,  96,  97, 113, 112,  98,  99, 115, 114,\n",
       "       100, 101, 117, 116, 102, 103, 119, 118, 104, 105, 121, 120, 106,\n",
       "       107, 123, 122, 108, 109, 125, 124, 110, 111, 127, 126, 128, 129,\n",
       "       145, 144, 130, 131, 147, 146, 132, 133, 149, 148, 134, 135, 151,\n",
       "       150, 136, 137, 153, 152, 138, 139, 155, 154, 140, 141, 157, 156,\n",
       "       142, 143, 159, 158, 160, 161, 177, 176, 162, 163, 179, 178, 164,\n",
       "       165, 181, 180, 166, 167, 183, 182, 168, 169, 185, 184, 170, 171,\n",
       "       187, 186, 172, 173, 189, 188, 174, 175, 191, 190, 192, 193, 209,\n",
       "       208, 194, 195, 211, 210, 196, 197, 213, 212, 198, 199, 215, 214,\n",
       "       200, 201, 217, 216, 202, 203, 219, 218, 204, 205, 221, 220, 206,\n",
       "       207, 223, 222, 224, 225, 241, 240, 226, 227, 243, 242, 228, 229,\n",
       "       245, 244, 230, 231, 247, 246, 232, 233, 249, 248, 234, 235, 251,\n",
       "       250, 236, 237, 253, 252, 238, 239, 255, 254])"
      ]
     },
     "execution_count": 4,
     "metadata": {},
     "output_type": "execute_result"
    }
   ],
   "source": [
    "get_hybrid_mesh(ici_mesh_shape=(1, 64, 2), dcn_mesh_shape=(2, 1, 1), num_devices=256, num_slices=2)"
   ]
  },
  {
   "cell_type": "code",
   "execution_count": null,
   "metadata": {},
   "outputs": [],
   "source": []
  }
 ],
 "metadata": {
  "kernelspec": {
   "display_name": "Python 3",
   "language": "python",
   "name": "python3"
  },
  "language_info": {
   "codemirror_mode": {
    "name": "ipython",
    "version": 3
   },
   "file_extension": ".py",
   "mimetype": "text/x-python",
   "name": "python",
   "nbconvert_exporter": "python",
   "pygments_lexer": "ipython3",
   "version": "3.10.15"
  }
 },
 "nbformat": 4,
 "nbformat_minor": 2
}
