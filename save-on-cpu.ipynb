{
 "cells": [
  {
   "cell_type": "code",
   "execution_count": 1,
   "metadata": {},
   "outputs": [
    {
     "name": "stderr",
     "output_type": "stream",
     "text": [
      "WARNING:root:libtpu.so and TPU device found. Setting PJRT_DEVICE=TPU.\n"
     ]
    }
   ],
   "source": [
    "import torch\n",
    "import torch_xla\n",
    "import torch_xla.runtime\n"
   ]
  },
  {
   "cell_type": "code",
   "execution_count": 2,
   "metadata": {},
   "outputs": [
    {
     "name": "stdout",
     "output_type": "stream",
     "text": [
      "Counter: RegisterXLAFunctions\n",
      "  Value: 1\n",
      "\n"
     ]
    }
   ],
   "source": [
    "import torch_xla.debug.metrics as met\n",
    "print(met.metrics_report())\n"
   ]
  },
  {
   "cell_type": "code",
   "execution_count": 3,
   "metadata": {},
   "outputs": [],
   "source": [
    "with torch_xla.runtime.xla_device():\n",
    "  a = torch.randn(5, requires_grad=True)\n",
    "  b = torch.randn(5, requires_grad=True)\n",
    "  c = torch.randn(5, requires_grad=True)\n",
    "  def f(a, b, c):\n",
    "      prod_1 = a * b           # a and b are saved on GPU\n",
    "      prod_2 = prod_1 * c  # prod_1 and c are saved on CPU\n",
    "      y = prod_2 * a           # prod_2 and a are saved on GPU\n",
    "      return y\n",
    "  y = f(a, b, c)\n",
    "  del a, b, c  # for illustration only\n",
    "  # the content of a, b, and prod_2 are still alive on GPU\n",
    "  # the content of prod_1 and c only live on CPU\n",
    "  y.sum().backward()  # all CPU tensors are moved back to GPU, for backward\n"
   ]
  },
  {
   "cell_type": "code",
   "execution_count": 4,
   "metadata": {},
   "outputs": [
    {
     "name": "stdout",
     "output_type": "stream",
     "text": [
      "Metric: LazyTracing\n",
      "  TotalSamples: 30\n",
      "  Accumulator: 002ms719.177us\n",
      "  ValueRate: 439ms935.185us / second\n",
      "  Rate: 7659.51 / second\n",
      "  Percentiles: 1%=000.520us; 5%=000.650us; 10%=001.000us; 20%=005.830us; 50%=013.940us; 80%=046.170us; 90%=125.910us; 95%=278.209us; 99%=779.780us\n",
      "Metric: TensorToData\n",
      "  TotalSamples: 1\n",
      "  Accumulator: 131.260us\n",
      "  Percentiles: 1%=131.260us; 5%=131.260us; 10%=131.260us; 20%=131.260us; 50%=131.260us; 80%=131.260us; 90%=131.260us; 95%=131.260us; 99%=131.260us\n",
      "Counter: CreateXlaTensor\n",
      "  Value: 19\n",
      "Counter: DestroyLtcTensor\n",
      "  Value: 12\n",
      "Counter: DestroyXlaTensor\n",
      "  Value: 12\n",
      "Counter: RegisterXLAFunctions\n",
      "  Value: 1\n",
      "Counter: xla::_propagate_xla_data\n",
      "  Value: 3\n",
      "Counter: xla::add\n",
      "  Value: 1\n",
      "Counter: xla::clone\n",
      "  Value: 3\n",
      "Counter: xla::detach_copy\n",
      "  Value: 3\n",
      "Counter: xla::empty_strided_symint\n",
      "  Value: 1\n",
      "Counter: xla::empty_symint\n",
      "  Value: 4\n",
      "Counter: xla::expand_copy_symint\n",
      "  Value: 1\n",
      "Counter: xla::fill_\n",
      "  Value: 1\n",
      "Counter: xla::mul\n",
      "  Value: 9\n",
      "Counter: xla::normal_\n",
      "  Value: 3\n",
      "Counter: xla::sum\n",
      "  Value: 1\n",
      "Metric: OutboundData\n",
      "  TotalSamples: 1\n",
      "  Accumulator: 8.00B\n",
      "  Percentiles: 1%=8.00B; 5%=8.00B; 10%=8.00B; 20%=8.00B; 50%=8.00B; 80%=8.00B; 90%=8.00B; 95%=8.00B; 99%=8.00B\n",
      "Metric: TransferToDeviceTime\n",
      "  TotalSamples: 1\n",
      "  Accumulator: 087.940us\n",
      "  Percentiles: 1%=087.940us; 5%=087.940us; 10%=087.940us; 20%=087.940us; 50%=087.940us; 80%=087.940us; 90%=087.940us; 95%=087.940us; 99%=087.940us\n",
      "Counter: CreateDataHandles\n",
      "  Value: 1\n",
      "\n"
     ]
    }
   ],
   "source": [
    "import torch_xla.debug.metrics as met\n",
    "print(met.metrics_report())\n",
    "\n"
   ]
  },
  {
   "cell_type": "code",
   "execution_count": 5,
   "metadata": {},
   "outputs": [
    {
     "name": "stdout",
     "output_type": "stream",
     "text": [
      "\n"
     ]
    }
   ],
   "source": [
    "met.clear_all()\n",
    "import torch_xla.debug.metrics as met\n",
    "print(met.metrics_report())\n",
    "\n"
   ]
  },
  {
   "cell_type": "code",
   "execution_count": 6,
   "metadata": {},
   "outputs": [],
   "source": [
    "with torch_xla.runtime.xla_device():\n",
    "  a = torch.randn(5, requires_grad=True)\n",
    "  b = torch.randn(5, requires_grad=True)\n",
    "  c = torch.randn(5, requires_grad=True)\n",
    "  def f(a, b, c):\n",
    "      prod_1 = a * b           # a and b are saved on GPU\n",
    "      with torch.autograd.graph.save_on_cpu():\n",
    "          prod_2 = prod_1 * c  # prod_1 and c are saved on CPU\n",
    "      y = prod_2 * a           # prod_2 and a are saved on GPU\n",
    "      return y\n",
    "  y = f(a, b, c)\n",
    "  del a, b, c  # for illustration only\n",
    "  # the content of a, b, and prod_2 are still alive on GPU\n",
    "  # the content of prod_1 and c only live on CPU\n",
    "  y.sum().backward()  # all CPU tensors are moved back to GPU, for backward\n",
    "  # all intermediary tensors are released (deleted) after the call to backward"
   ]
  },
  {
   "cell_type": "code",
   "execution_count": 7,
   "metadata": {},
   "outputs": [
    {
     "name": "stdout",
     "output_type": "stream",
     "text": [
      "Metric: DeviceLockWait\n",
      "  TotalSamples: 4\n",
      "  Accumulator: 033.620us\n",
      "  ValueRate: 236.534us / second\n",
      "  Rate: 28.1421 / second\n",
      "  Percentiles: 1%=003.570us; 5%=003.570us; 10%=003.570us; 20%=003.570us; 50%=012.700us; 80%=013.510us; 90%=013.510us; 95%=013.510us; 99%=013.510us\n",
      "Metric: IrValueTensorToXlaData\n",
      "  TotalSamples: 2\n",
      "  Accumulator: 162.920us\n",
      "  ValueRate: 01s454ms123.527us / second\n",
      "  Rate: 17850.8 / second\n",
      "  Percentiles: 1%=043.180us; 5%=043.180us; 10%=043.180us; 20%=043.180us; 50%=119.740us; 80%=119.740us; 90%=119.740us; 95%=119.740us; 99%=119.740us\n",
      "Metric: LazyTracing\n",
      "  TotalSamples: 38\n",
      "  Accumulator: 257ms024.902us\n",
      "  ValueRate: 990ms222.824us / second\n",
      "  Rate: 146.4 / second\n",
      "  Percentiles: 1%=000.580us; 5%=000.600us; 10%=001.331us; 20%=007.250us; 50%=019.350us; 80%=066.069us; 90%=147.711us; 95%=121ms754.242us; 99%=135ms083.320us\n",
      "Metric: TensorToData\n",
      "  TotalSamples: 2\n",
      "  Accumulator: 155.871us\n",
      "  ValueRate: 01s381ms210.623us / second\n",
      "  Rate: 17722.5 / second\n",
      "  Percentiles: 1%=040.851us; 5%=040.851us; 10%=040.851us; 20%=040.851us; 50%=115.020us; 80%=115.020us; 90%=115.020us; 95%=115.020us; 99%=115.020us\n",
      "Metric: TensorsGraphSize\n",
      "  TotalSamples: 2\n",
      "  Accumulator: 62.00\n",
      "  ValueRate: 436.21 / second\n",
      "  Rate: 14.0713 / second\n",
      "  Percentiles: 1%=30.00; 5%=30.00; 10%=30.00; 20%=30.00; 50%=32.00; 80%=32.00; 90%=32.00; 95%=32.00; 99%=32.00\n",
      "Metric: UnwrapXlaData\n",
      "  TotalSamples: 4\n",
      "  Accumulator: 007.000us\n",
      "  ValueRate: 056.407us / second\n",
      "  Rate: 32.2325 / second\n",
      "  Percentiles: 1%=001.310us; 5%=001.310us; 10%=001.310us; 20%=001.310us; 50%=001.950us; 80%=002.000us; 90%=002.000us; 95%=002.000us; 99%=002.000us\n",
      "Metric: WrapXlaData\n",
      "  TotalSamples: 2\n",
      "  Accumulator: 000.210us\n",
      "  ValueRate: 001.706us / second\n",
      "  Rate: 16.2472 / second\n",
      "  Percentiles: 1%=000.100us; 5%=000.100us; 10%=000.100us; 20%=000.100us; 50%=000.110us; 80%=000.110us; 90%=000.110us; 95%=000.110us; 99%=000.110us\n",
      "Counter: CreateXlaTensor\n",
      "  Value: 21\n",
      "Counter: DestroyLtcTensor\n",
      "  Value: 21\n",
      "Counter: DestroyXlaTensor\n",
      "  Value: 21\n",
      "Counter: ExecuteComputation\n",
      "  Value: 2\n",
      "Counter: UncachedCompile\n",
      "  Value: 2\n",
      "Counter: xla::_copy_from\n",
      "  Value: 2\n",
      "Counter: xla::_propagate_xla_data\n",
      "  Value: 3\n",
      "Counter: xla::_to_copy\n",
      "  Value: 4\n",
      "Counter: xla::add\n",
      "  Value: 1\n",
      "Counter: xla::clone\n",
      "  Value: 3\n",
      "Counter: xla::detach_copy\n",
      "  Value: 3\n",
      "Counter: xla::empty_strided_symint\n",
      "  Value: 1\n",
      "Counter: xla::empty_symint\n",
      "  Value: 6\n",
      "Counter: xla::expand_copy_symint\n",
      "  Value: 1\n",
      "Counter: xla::fill_\n",
      "  Value: 1\n",
      "Counter: xla::mul\n",
      "  Value: 9\n",
      "Counter: xla::normal_\n",
      "  Value: 3\n",
      "Counter: xla::sum\n",
      "  Value: 1\n",
      "Metric: CompileTime\n",
      "  TotalSamples: 2\n",
      "  Accumulator: 229ms515.825us\n",
      "  ValueRate: 02s607ms058.264us / second\n",
      "  Rate: 14.0652 / second\n",
      "  Percentiles: 1%=111ms820.143us; 5%=111ms820.143us; 10%=111ms820.143us; 20%=111ms820.143us; 50%=118ms695.682us; 80%=118ms695.682us; 90%=118ms695.682us; 95%=118ms695.682us; 99%=118ms695.682us\n",
      "Metric: ExecuteTime\n",
      "  TotalSamples: 2\n",
      "  Accumulator: 003ms402.720us\n",
      "  ValueRate: 028ms659.038us / second\n",
      "  Rate: 16.257 / second\n",
      "  Percentiles: 1%=002ms526.100us; 5%=002ms526.100us; 10%=002ms526.100us; 20%=002ms526.100us; 50%=002ms876.620us; 80%=002ms876.620us; 90%=002ms876.620us; 95%=002ms876.620us; 99%=002ms876.620us\n",
      "Metric: InboundData\n",
      "  TotalSamples: 2\n",
      "  Accumulator: 40.00B\n",
      "  ValueRate: 330.89B / second\n",
      "  Rate: 16.5443 / second\n",
      "  Percentiles: 1%=20.00B; 5%=20.00B; 10%=20.00B; 20%=20.00B; 50%=20.00B; 80%=20.00B; 90%=20.00B; 95%=20.00B; 99%=20.00B\n",
      "Metric: OutboundData\n",
      "  TotalSamples: 2\n",
      "  Accumulator: 40.00B\n",
      "  ValueRate: 341.67KB / second\n",
      "  Rate: 17493.4 / second\n",
      "  Percentiles: 1%=20.00B; 5%=20.00B; 10%=20.00B; 20%=20.00B; 50%=20.00B; 80%=20.00B; 90%=20.00B; 95%=20.00B; 99%=20.00B\n",
      "Metric: TransferFromDeviceTime\n",
      "  TotalSamples: 2\n",
      "  Accumulator: 005ms020.250us\n",
      "  ValueRate: 042ms528.125us / second\n",
      "  Rate: 16.5442 / second\n",
      "  Percentiles: 1%=001ms412.180us; 5%=001ms412.180us; 10%=001ms412.180us; 20%=001ms412.180us; 50%=004ms608.070us; 80%=004ms608.070us; 90%=004ms608.070us; 95%=004ms608.070us; 99%=004ms608.070us\n",
      "Metric: TransferToDeviceTime\n",
      "  TotalSamples: 2\n",
      "  Accumulator: 098.462us\n",
      "  ValueRate: 869ms037.952us / second\n",
      "  Rate: 17652.3 / second\n",
      "  Percentiles: 1%=025.111us; 5%=025.111us; 10%=025.111us; 20%=025.111us; 50%=073.351us; 80%=073.351us; 90%=073.351us; 95%=073.351us; 99%=073.351us\n",
      "Counter: CreateCompileHandles\n",
      "  Value: 2\n",
      "Counter: CreateDataHandles\n",
      "  Value: 4\n",
      "\n"
     ]
    }
   ],
   "source": [
    "import torch_xla.debug.metrics as met\n",
    "print(met.metrics_report())\n"
   ]
  },
  {
   "cell_type": "code",
   "execution_count": null,
   "metadata": {},
   "outputs": [],
   "source": []
  }
 ],
 "metadata": {
  "kernelspec": {
   "display_name": "Python 3",
   "language": "python",
   "name": "python3"
  },
  "language_info": {
   "codemirror_mode": {
    "name": "ipython",
    "version": 3
   },
   "file_extension": ".py",
   "mimetype": "text/x-python",
   "name": "python",
   "nbconvert_exporter": "python",
   "pygments_lexer": "ipython3",
   "version": "3.10.14"
  }
 },
 "nbformat": 4,
 "nbformat_minor": 2
}
